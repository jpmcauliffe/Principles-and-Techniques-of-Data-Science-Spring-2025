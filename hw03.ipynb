{
 "cells": [
  {
   "cell_type": "code",
   "execution_count": 1,
   "metadata": {
    "deletable": false,
    "editable": false
   },
   "outputs": [],
   "source": [
    "# Initialize Otter\n",
    "import otter\n",
    "grader = otter.Notebook(\"hw03.ipynb\")"
   ]
  },
  {
   "cell_type": "markdown",
   "metadata": {},
   "source": [
    "# 📰 Homework 3: Text Analysis of New York Times Articles\n",
    "\n",
    "### Due Date: Thursday, February 20, 11:59 PM\n",
    "\n",
    "You must submit this assignment to Gradescope by the on-time deadline, **Thursday, February 20**, at 11:59 PM. Please read the syllabus for the Slip Day policy. No late submissions beyond what is outlined in the Slip Day policy will be accepted. **We strongly encourage you to submit your work to Gradescope several hours before the stated deadline.** This way, you will have ample time to reach out to staff for support if you encounter difficulties with submission. While course staff is happy to help guide you with submitting your assignment ahead of the deadline, we will not respond to last-minute requests for assistance.\n",
    "\n",
    "Please read the instructions carefully when submitting your work to Gradescope.\n",
    "\n",
    "## Collaboration Policy\n",
    "\n",
    "Data science is a collaborative activity. While you may talk with others about the homework, we ask that you **write your solutions individually**. If you do discuss the assignments with others, please **include their names** below.\n"
   ]
  },
  {
   "cell_type": "markdown",
   "metadata": {},
   "source": [
    "**Collaborators**: _list collaborators here_\n"
   ]
  },
  {
   "cell_type": "markdown",
   "metadata": {},
   "source": [
    "## 📝 This Assignment\n",
    "Welcome to Homework 3! In this assignment, we will analyze New York Times articles discussing trending topics from the past six years.\n",
    "\n",
    "You will gain experience with:\n",
    "\n",
    "- Cleaning and exploring a text-based dataset,\n",
    "- Manipulating data in `pandas` using `string` accessors,\n",
    "- Creating and interpreting visualizations with `seaborn`,\n",
    "- Writing and applying regular expressions (regex) with `pandas`, and\n",
    "- Performing sentiment analysis on text using the `DistilBERT` language model.\n"
   ]
  },
  {
   "cell_type": "code",
   "execution_count": 2,
   "metadata": {},
   "outputs": [],
   "source": [
    "# Run this cell to set up your notebook. \n",
    "import warnings\n",
    "warnings.simplefilter(action=\"ignore\")\n",
    "\n",
    "import re\n",
    "import itertools\n",
    "import numpy as np\n",
    "import pandas as pd\n",
    "import seaborn as sns\n",
    "import matplotlib.pyplot as plt\n",
    "\n",
    "from ds100_utils import *\n",
    "\n",
    "# Ensure that pandas shows at least 280 characters in columns, so we can see full articles.\n",
    "pd.set_option(\"max_colwidth\", 280)\n",
    "plt.style.use(\"fivethirtyeight\")\n",
    "sns.set()\n",
    "sns.set_context(\"talk\")\n",
    "sns.set_palette(\"colorblind\")"
   ]
  },
  {
   "cell_type": "markdown",
   "metadata": {},
   "source": [
    "In this assignment, we will use the [DistilBERT model](https://medium.com/huggingface/distilbert-8cf3380435b5), a Natural Language Processing (NLP) model designed to capture the context and meaning of words within sentences. While you are not expected to understand the intricate details of the model, we will utilize it to perform sentiment analysis on textual data. The necessary tools and the corresponding model are imported below.\n",
    "\n",
    "- **If you encounter any warnings, please ignore them. As long as the cell executes successfully, there should be no issues.**\n",
    "\n",
    "## ⚠️ IMPORTANT NOTE\n",
    "\n",
    "Due to limited computing resources on DataHub, the cell below **may take a significant amount of time to run** (potentially several minutes). This may also apply to other cells later in the assignment that load and use the NLP model.\n",
    "\n",
    "**Please be patient**, wait, and **avoid restarting the kernel or rerunning these cells** more than necessary. Doing so can slow down *your* notebook and impact *other students* on the same CPU cluster.\n",
    "\n",
    "Additionally, **DO NOT** open this assignment in multiple tabs or windows. This can cause your notebook to crash and affect DataHub's performance.\n",
    "\n",
    "Please be patient and seek assistance during Office Hours or on Ed if you encounter any issues!\n"
   ]
  },
  {
   "cell_type": "markdown",
   "metadata": {},
   "source": [
    "### Score Breakdown\n",
    "\n",
    " Question | Manual| Points\n",
    "--- |---| ---\n",
    "1a |No| 1\n",
    "1b |No| 1\n",
    "1c |No| 1\n",
    "2ai |No| 2\n",
    "2aii |No| 1\n",
    "2aiii |No| 2\n",
    "2bi |No| 1\n",
    "2bii |No| 1\n",
    "2biii |Yes| 1\n",
    "2c |No| 2\n",
    "2d |No| 2\n",
    "2e |No| 1\n",
    "2fi |Yes| 1\n",
    "2fii |Yes| 2\n",
    "3a |No| 1\n",
    "3bi |No| 1\n",
    "3bii |No| 1\n",
    "3c |Yes| 1\n",
    "3di |No| 1\n",
    "3dii |Yes| 1\n",
    "3e |Yes| 2\n",
    "**Total** | **6** | **27**"
   ]
  },
  {
   "cell_type": "markdown",
   "metadata": {},
   "source": [
    "## 🏎️ Before You Start\n",
    "\n",
    "For each question in the assignment, please write down your answer in the answer cell(s) right below the question.\n",
    "\n",
    "We understand that it is helpful to have extra cells breaking down the process towards reaching your final answer. If you happen to create new cells below your answer to run code, **NEVER** add cells between a question cell and the answer cell below it. It will cause errors when we run the autograder, and it will sometimes cause a failure to generate the PDF file.\n",
    "\n",
    "**Important note: The local autograder tests will not be comprehensive. You can pass the automated tests in your notebook but still fail tests on Gradescope after the grades are released.** Please be sure to check your results carefully.\n",
    "\n",
    "Finally, unless we state otherwise, **do not use for loops or list comprehensions**. The majority of this assignment can be done using built-in commands in `pandas` and `NumPy`.\n",
    "\n",
    "### Debugging Guide\n",
    "\n",
    "If you run into any technical issues, we highly recommend checking out the [Data 100 Debugging Guide](https://ds100.org/debugging-guide/). In this guide, you can find general questions about Datahub, Gradescope, and common `pandas` and RegEx errors.\n"
   ]
  },
  {
   "cell_type": "markdown",
   "metadata": {},
   "source": [
    "<hr style=\"border: 5px solid #003262;\" />\n",
    "<hr style=\"border: 1px solid #fdb515;\" />\n",
    "\n",
    "## Question 1: Importing the Data\n",
    "\n",
    "The data for this assignment is sourced from the [New York Times (NYT) Archive API](https://developer.nytimes.com/docs/archive-product/1/overview), which provides information about articles published in the past.\n",
    "\n",
    "The file `data/nyt_articles.txt` contains filtered data of specific NYT articles published between 2019 and 2024 (inclusive). Each article discusses trending topics, which we will specify shortly."
   ]
  },
  {
   "cell_type": "markdown",
   "metadata": {
    "deletable": false,
    "editable": false
   },
   "source": [
    "<br>\n",
    "\n",
    "---\n",
    "\n",
    "### Question 1a\n",
    "\n",
    "Let's examine the contents of the `data/nyt_articles.txt` file.\n",
    "\n",
    "Using the [`open()` function](https://docs.python.org/3/library/functions.html#open) and the [`read()` method](https://docs.python.org/3/tutorial/inputoutput.html#methods-of-file-objects) of a `python` file object, read **the first 330 characters** of the file `data/nyt_articles.txt` and store the result in the variable `q1a`. Then, print the result to inspect it.\n",
    "\n",
    "**CAUTION:** Viewing the contents of large files in a Jupyter Notebook can crash your browser. Be careful not to print the entire contents of the file."
   ]
  },
  {
   "cell_type": "code",
   "execution_count": 3,
   "metadata": {
    "tags": [
     "otter_answer_cell"
    ]
   },
   "outputs": [
    {
     "name": "stdout",
     "output_type": "stream",
     "text": [
      "[{\"web_url\":\"https:\\/\\/www.nytimes.com\\/2019\\/01\\/01\\/us\\/politics\\/elizabeth-warren-president.html\",\"pub_date\":\"2019-01-01T05:18:48+0000\",\"lead_paragraph\":\"Good Tuesday morning and Happy New Year. Here are some of the stories making news in Washington and politics today.\"},{\"web_url\":\"https:\\/\\/www.nytimes.com\\/2019\\/01\\/01\\/ar\n"
     ]
    }
   ],
   "source": [
    "q1a = open('data/nyt_articles.txt', 'r').read(330)\n",
    "print(q1a)"
   ]
  },
  {
   "cell_type": "code",
   "execution_count": 4,
   "metadata": {
    "deletable": false,
    "editable": false
   },
   "outputs": [
    {
     "data": {
      "text/html": [
       "<p><strong><pre style='display: inline;'>q1a</pre></strong> passed! 🌟</p>"
      ],
      "text/plain": [
       "q1a results: All test cases passed!"
      ]
     },
     "execution_count": 4,
     "metadata": {},
     "output_type": "execute_result"
    }
   ],
   "source": [
    "grader.check(\"q1a\")"
   ]
  },
  {
   "cell_type": "markdown",
   "metadata": {
    "deletable": false,
    "editable": false
   },
   "source": [
    "<br>\n",
    "\n",
    "---\n",
    "\n",
    "###  Question 1b\n",
    "\n",
    "Based on the printed output from `q1a`, what format is the data in?\n",
    "\n",
    "**A.** CSV<br/>\n",
    "**B.** JavaScript Object Notation (JSON)<br/>\n",
    "**C.** HTML<br/>\n",
    "**D.** Excel (XLSX)\n",
    "\n",
    "Answer in the following cell. Your answer should be a string, either `\"A\"`, `\"B\"`, `\"C\"`, or `\"D\"`, stored in the variable `q1b`.\n",
    "\n",
    "**CAUTION:** Viewing the contents of large files in a Jupyter Notebook can crash your browser. Be careful not to print the entire contents of the file, and do not use the file explorer to open data files directly."
   ]
  },
  {
   "cell_type": "code",
   "execution_count": 5,
   "metadata": {
    "tags": [
     "otter_answer_cell"
    ]
   },
   "outputs": [],
   "source": [
    "q1b = 'B'"
   ]
  },
  {
   "cell_type": "code",
   "execution_count": 6,
   "metadata": {
    "deletable": false,
    "editable": false
   },
   "outputs": [
    {
     "data": {
      "text/html": [
       "<p><strong><pre style='display: inline;'>q1b</pre></strong> passed! 🚀</p>"
      ],
      "text/plain": [
       "q1b results: All test cases passed!"
      ]
     },
     "execution_count": 6,
     "metadata": {},
     "output_type": "execute_result"
    }
   ],
   "source": [
    "grader.check(\"q1b\")"
   ]
  },
  {
   "cell_type": "markdown",
   "metadata": {
    "deletable": false,
    "editable": false
   },
   "source": [
    "<br>\n",
    "\n",
    "---\n",
    "\n",
    "###  Question 1c\n",
    "`pandas` has built-in readers for many different file formats. To learn more about these, check out the documentation:\n",
    "\n",
    "- `pd.read_csv` [(docs)](https://pandas.pydata.org/pandas-docs/stable/reference/api/pandas.read_csv.html)\n",
    "- `pd.read_json` [(docs)](https://pandas.pydata.org/docs/reference/api/pandas.read_json.html)\n",
    "- `pd.read_html` [(docs)](https://pandas.pydata.org/pandas-docs/stable/reference/api/pandas.read_html.html)\n",
    "- `pd.read_excel` [(docs)](https://pandas.pydata.org/pandas-docs/stable/reference/api/pandas.read_excel.html)\n",
    "\n",
    "Load the file `data/nyt_articles.txt` as a `DataFrame`, and store it in the variable `news_df`.\n",
    "\n",
    "**Hint:** If your code is taking a while to run, you should review your answers to `q1a` and `q1b`; you may have used the incorrect data loading function."
   ]
  },
  {
   "cell_type": "code",
   "execution_count": 7,
   "metadata": {
    "tags": [
     "otter_answer_cell"
    ]
   },
   "outputs": [
    {
     "data": {
      "text/html": [
       "<div>\n",
       "<style scoped>\n",
       "    .dataframe tbody tr th:only-of-type {\n",
       "        vertical-align: middle;\n",
       "    }\n",
       "\n",
       "    .dataframe tbody tr th {\n",
       "        vertical-align: top;\n",
       "    }\n",
       "\n",
       "    .dataframe thead th {\n",
       "        text-align: right;\n",
       "    }\n",
       "</style>\n",
       "<table border=\"1\" class=\"dataframe\">\n",
       "  <thead>\n",
       "    <tr style=\"text-align: right;\">\n",
       "      <th></th>\n",
       "      <th>web_url</th>\n",
       "      <th>pub_date</th>\n",
       "      <th>lead_paragraph</th>\n",
       "    </tr>\n",
       "  </thead>\n",
       "  <tbody>\n",
       "    <tr>\n",
       "      <th>0</th>\n",
       "      <td>https://www.nytimes.com/2019/01/01/us/politics/elizabeth-warren-president.html</td>\n",
       "      <td>2019-01-01T05:18:48+0000</td>\n",
       "      <td>Good Tuesday morning and Happy New Year. Here are some of the stories making news in Washington and politics today.</td>\n",
       "    </tr>\n",
       "    <tr>\n",
       "      <th>1</th>\n",
       "      <td>https://www.nytimes.com/2019/01/01/arts/television/whats-on-tv-tuesday-marie-kondo-doctor-who.html</td>\n",
       "      <td>2019-01-01T06:00:04+0000</td>\n",
       "      <td>Ring in the new year with some organization inspiration, courtesy of Marie Kondo, and the first-ever \"Doctor Who\" New Year’s Day special.</td>\n",
       "    </tr>\n",
       "    <tr>\n",
       "      <th>2</th>\n",
       "      <td>https://www.nytimes.com/2019/01/01/travel/three-new-years-resolutions-for-better-travel-in-2019.html</td>\n",
       "      <td>2019-01-01T10:00:06+0000</td>\n",
       "      <td>It’s not uncommon for people to set unrealistic expectations when making New Year’s resolutions, which likely contributes to most of them failing. Over 90 percent of them do, according to research by the University of Scranton.</td>\n",
       "    </tr>\n",
       "    <tr>\n",
       "      <th>3</th>\n",
       "      <td>https://www.nytimes.com/2019/01/01/world/europe/russia-baby-rescue.html</td>\n",
       "      <td>2019-01-01T16:41:24+0000</td>\n",
       "      <td>MOSCOW — Rescue workers pulled a 10-month-old baby boy alive from a partly collapsed apartment building in central Russia on Tuesday, calling him a \"New Year miracle\" after he survived in the rubble for more than 35 hours in freezing temperatures.</td>\n",
       "    </tr>\n",
       "    <tr>\n",
       "      <th>4</th>\n",
       "      <td>https://www.nytimes.com/2019/01/01/world/europe/germany-foreigners-attack.html</td>\n",
       "      <td>2019-01-01T17:57:51+0000</td>\n",
       "      <td>BERLIN — Targeting foreigners, a man repeatedly drove his car at pedestrians celebrating New Year’s Eve in western Germany, injuring four people before being arrested, the police and prosecutors said Tuesday.</td>\n",
       "    </tr>\n",
       "  </tbody>\n",
       "</table>\n",
       "</div>"
      ],
      "text/plain": [
       "                                                                                                web_url  \\\n",
       "0                        https://www.nytimes.com/2019/01/01/us/politics/elizabeth-warren-president.html   \n",
       "1    https://www.nytimes.com/2019/01/01/arts/television/whats-on-tv-tuesday-marie-kondo-doctor-who.html   \n",
       "2  https://www.nytimes.com/2019/01/01/travel/three-new-years-resolutions-for-better-travel-in-2019.html   \n",
       "3                               https://www.nytimes.com/2019/01/01/world/europe/russia-baby-rescue.html   \n",
       "4                        https://www.nytimes.com/2019/01/01/world/europe/germany-foreigners-attack.html   \n",
       "\n",
       "                   pub_date  \\\n",
       "0  2019-01-01T05:18:48+0000   \n",
       "1  2019-01-01T06:00:04+0000   \n",
       "2  2019-01-01T10:00:06+0000   \n",
       "3  2019-01-01T16:41:24+0000   \n",
       "4  2019-01-01T17:57:51+0000   \n",
       "\n",
       "                                                                                                                                                                                                                                            lead_paragraph  \n",
       "0                                                                                                                                      Good Tuesday morning and Happy New Year. Here are some of the stories making news in Washington and politics today.  \n",
       "1                                                                                                                Ring in the new year with some organization inspiration, courtesy of Marie Kondo, and the first-ever \"Doctor Who\" New Year’s Day special.  \n",
       "2                      It’s not uncommon for people to set unrealistic expectations when making New Year’s resolutions, which likely contributes to most of them failing. Over 90 percent of them do, according to research by the University of Scranton.  \n",
       "3  MOSCOW — Rescue workers pulled a 10-month-old baby boy alive from a partly collapsed apartment building in central Russia on Tuesday, calling him a \"New Year miracle\" after he survived in the rubble for more than 35 hours in freezing temperatures.  \n",
       "4                                         BERLIN — Targeting foreigners, a man repeatedly drove his car at pedestrians celebrating New Year’s Eve in western Germany, injuring four people before being arrested, the police and prosecutors said Tuesday.  "
      ]
     },
     "execution_count": 7,
     "metadata": {},
     "output_type": "execute_result"
    }
   ],
   "source": [
    "news_df = pd.read_json('data/nyt_articles.txt')\n",
    "news_df.head()"
   ]
  },
  {
   "cell_type": "code",
   "execution_count": 8,
   "metadata": {
    "deletable": false,
    "editable": false
   },
   "outputs": [
    {
     "data": {
      "text/html": [
       "<p><strong><pre style='display: inline;'>q1c</pre></strong> passed! 🍀</p>"
      ],
      "text/plain": [
       "q1c results: All test cases passed!"
      ]
     },
     "execution_count": 8,
     "metadata": {},
     "output_type": "execute_result"
    }
   ],
   "source": [
    "grader.check(\"q1c\")"
   ]
  },
  {
   "cell_type": "markdown",
   "metadata": {
    "deletable": false,
    "editable": false
   },
   "source": [
    "<br/>\n",
    "\n",
    "<hr style=\"border: 1px solid #fdb515;\" />\n",
    "\n",
    "##  Question 2: Topic Trends Over Time\n",
    "\n",
    "Now that we've loaded the NYT data, let's analyze trends in different topics. This will help us understand how various subjects have evolved over the years and identify any significant patterns or shifts in public interest.\n",
    "\n",
    "We will start by extracting date and time information from the articles and then proceed to analyze the frequency and context of specific topics mentioned in the articles.\n",
    "\n",
    "\n",
    "<br>\n"
   ]
  },
  {
   "attachments": {},
   "cell_type": "markdown",
   "metadata": {
    "deletable": false,
    "editable": false
   },
   "source": [
    "---\n",
    "\n",
    "###  Question 2a\n",
    "\n",
    "In this question, we will process the `pub_date` column of our dataset to canonicalize time-related data.\n",
    "This will help us investigate the trend of news articles across units of time like years, months, and seasons.\n",
    "\n",
    "####  Question 2a, Part i\n",
    "\n",
    "Create a new `DataFrame` called `dates` that contains:\n",
    "1. The same index as `news_df`\n",
    "2. Three columns: `Month`, `Year`, and `Minute`, which contain the month, year, and minute, respectively, that each article was published.\n",
    "\n",
    "Additionally, convert all numerical values (`Month`, `Year`, `Minute`) to type `int`.\n",
    "\n",
    "**Note:** For this problem, you are not permitted to use methods from the `Series.dt` accessor.\n",
    "\n",
    "**Hint 1:** Use the `Series.str.extract` function ([documentation](https://pandas.pydata.org/docs/reference/api/pandas.Series.str.extract.html)).\n",
    "\n",
    "**Hint 2:** Use raw strings and capture groups. You may find it helpful to copy the example date and time entries above into [regex101.com](https://regex101.com/) to experiment with regular expressions.\n",
    "\n",
    "**Hint 3:** It might be helpful to break this up into a couple of steps (e.g., first extract date values and then extract time values)."
   ]
  },
  {
   "cell_type": "code",
   "execution_count": 9,
   "metadata": {
    "tags": [
     "otter_answer_cell"
    ]
   },
   "outputs": [
    {
     "data": {
      "text/html": [
       "<div>\n",
       "<style scoped>\n",
       "    .dataframe tbody tr th:only-of-type {\n",
       "        vertical-align: middle;\n",
       "    }\n",
       "\n",
       "    .dataframe tbody tr th {\n",
       "        vertical-align: top;\n",
       "    }\n",
       "\n",
       "    .dataframe thead th {\n",
       "        text-align: right;\n",
       "    }\n",
       "</style>\n",
       "<table border=\"1\" class=\"dataframe\">\n",
       "  <thead>\n",
       "    <tr style=\"text-align: right;\">\n",
       "      <th></th>\n",
       "      <th>Month</th>\n",
       "      <th>Year</th>\n",
       "      <th>Minute</th>\n",
       "    </tr>\n",
       "  </thead>\n",
       "  <tbody>\n",
       "    <tr>\n",
       "      <th>0</th>\n",
       "      <td>1</td>\n",
       "      <td>2019</td>\n",
       "      <td>18</td>\n",
       "    </tr>\n",
       "    <tr>\n",
       "      <th>1</th>\n",
       "      <td>1</td>\n",
       "      <td>2019</td>\n",
       "      <td>0</td>\n",
       "    </tr>\n",
       "    <tr>\n",
       "      <th>2</th>\n",
       "      <td>1</td>\n",
       "      <td>2019</td>\n",
       "      <td>0</td>\n",
       "    </tr>\n",
       "    <tr>\n",
       "      <th>3</th>\n",
       "      <td>1</td>\n",
       "      <td>2019</td>\n",
       "      <td>41</td>\n",
       "    </tr>\n",
       "    <tr>\n",
       "      <th>4</th>\n",
       "      <td>1</td>\n",
       "      <td>2019</td>\n",
       "      <td>57</td>\n",
       "    </tr>\n",
       "    <tr>\n",
       "      <th>...</th>\n",
       "      <td>...</td>\n",
       "      <td>...</td>\n",
       "      <td>...</td>\n",
       "    </tr>\n",
       "    <tr>\n",
       "      <th>1880</th>\n",
       "      <td>12</td>\n",
       "      <td>2024</td>\n",
       "      <td>0</td>\n",
       "    </tr>\n",
       "    <tr>\n",
       "      <th>1881</th>\n",
       "      <td>12</td>\n",
       "      <td>2024</td>\n",
       "      <td>14</td>\n",
       "    </tr>\n",
       "    <tr>\n",
       "      <th>1882</th>\n",
       "      <td>12</td>\n",
       "      <td>2024</td>\n",
       "      <td>16</td>\n",
       "    </tr>\n",
       "    <tr>\n",
       "      <th>1883</th>\n",
       "      <td>12</td>\n",
       "      <td>2024</td>\n",
       "      <td>18</td>\n",
       "    </tr>\n",
       "    <tr>\n",
       "      <th>1884</th>\n",
       "      <td>12</td>\n",
       "      <td>2024</td>\n",
       "      <td>7</td>\n",
       "    </tr>\n",
       "  </tbody>\n",
       "</table>\n",
       "<p>1885 rows × 3 columns</p>\n",
       "</div>"
      ],
      "text/plain": [
       "      Month  Year  Minute\n",
       "0         1  2019      18\n",
       "1         1  2019       0\n",
       "2         1  2019       0\n",
       "3         1  2019      41\n",
       "4         1  2019      57\n",
       "...     ...   ...     ...\n",
       "1880     12  2024       0\n",
       "1881     12  2024      14\n",
       "1882     12  2024      16\n",
       "1883     12  2024      18\n",
       "1884     12  2024       7\n",
       "\n",
       "[1885 rows x 3 columns]"
      ]
     },
     "execution_count": 9,
     "metadata": {},
     "output_type": "execute_result"
    }
   ],
   "source": [
    "dates = news_df[['pub_date']]\n",
    "dates['Year'] = dates['pub_date'].str.split('-').str[0].astype(int)\n",
    "dates['Month'] = dates['pub_date'].str.split('-').str[1].astype(int)\n",
    "dates['Minute'] = dates['pub_date'].str.split('-').str[2].str.split(':').str[1].astype(int)\n",
    "dates = dates[['Month', 'Year', 'Minute']]\n",
    "dates"
   ]
  },
  {
   "cell_type": "code",
   "execution_count": 10,
   "metadata": {
    "deletable": false,
    "editable": false
   },
   "outputs": [
    {
     "data": {
      "text/html": [
       "<p><strong><pre style='display: inline;'>q2ai</pre></strong> passed! 🙌</p>"
      ],
      "text/plain": [
       "q2ai results: All test cases passed!"
      ]
     },
     "execution_count": 10,
     "metadata": {},
     "output_type": "execute_result"
    }
   ],
   "source": [
    "grader.check(\"q2ai\")"
   ]
  },
  {
   "cell_type": "markdown",
   "metadata": {
    "deletable": false,
    "editable": false
   },
   "source": [
    "---\n",
    "####  Question 2a, Part ii\n",
    "\n",
    "We aim to analyze topic trends over time by merging news article data with corresponding date and time data. \n",
    "\n",
    "Use the `pd.DataFrame.merge` [documentation](https://pandas.pydata.org/docs/reference/api/pandas.DataFrame.merge.html) to merge the `dates` `DataFrame` with the `news_df` `DataFrame`. Ensure that `news_df` is the left `DataFrame` and `dates` is the right `DataFrame` in the merge operation.\n",
    "\n",
    "Assign the merged `DataFrame` to a variable named `news_df_dates`."
   ]
  },
  {
   "cell_type": "code",
   "execution_count": 11,
   "metadata": {
    "tags": [
     "otter_answer_cell"
    ]
   },
   "outputs": [
    {
     "data": {
      "text/html": [
       "<div>\n",
       "<style scoped>\n",
       "    .dataframe tbody tr th:only-of-type {\n",
       "        vertical-align: middle;\n",
       "    }\n",
       "\n",
       "    .dataframe tbody tr th {\n",
       "        vertical-align: top;\n",
       "    }\n",
       "\n",
       "    .dataframe thead th {\n",
       "        text-align: right;\n",
       "    }\n",
       "</style>\n",
       "<table border=\"1\" class=\"dataframe\">\n",
       "  <thead>\n",
       "    <tr style=\"text-align: right;\">\n",
       "      <th></th>\n",
       "      <th>web_url</th>\n",
       "      <th>pub_date</th>\n",
       "      <th>lead_paragraph</th>\n",
       "      <th>Month</th>\n",
       "      <th>Year</th>\n",
       "      <th>Minute</th>\n",
       "    </tr>\n",
       "  </thead>\n",
       "  <tbody>\n",
       "    <tr>\n",
       "      <th>0</th>\n",
       "      <td>https://www.nytimes.com/2019/01/01/us/politics/elizabeth-warren-president.html</td>\n",
       "      <td>2019-01-01T05:18:48+0000</td>\n",
       "      <td>Good Tuesday morning and Happy New Year. Here are some of the stories making news in Washington and politics today.</td>\n",
       "      <td>1</td>\n",
       "      <td>2019</td>\n",
       "      <td>18</td>\n",
       "    </tr>\n",
       "    <tr>\n",
       "      <th>1</th>\n",
       "      <td>https://www.nytimes.com/2019/01/01/arts/television/whats-on-tv-tuesday-marie-kondo-doctor-who.html</td>\n",
       "      <td>2019-01-01T06:00:04+0000</td>\n",
       "      <td>Ring in the new year with some organization inspiration, courtesy of Marie Kondo, and the first-ever \"Doctor Who\" New Year’s Day special.</td>\n",
       "      <td>1</td>\n",
       "      <td>2019</td>\n",
       "      <td>0</td>\n",
       "    </tr>\n",
       "    <tr>\n",
       "      <th>2</th>\n",
       "      <td>https://www.nytimes.com/2019/01/01/travel/three-new-years-resolutions-for-better-travel-in-2019.html</td>\n",
       "      <td>2019-01-01T10:00:06+0000</td>\n",
       "      <td>It’s not uncommon for people to set unrealistic expectations when making New Year’s resolutions, which likely contributes to most of them failing. Over 90 percent of them do, according to research by the University of Scranton.</td>\n",
       "      <td>1</td>\n",
       "      <td>2019</td>\n",
       "      <td>0</td>\n",
       "    </tr>\n",
       "    <tr>\n",
       "      <th>3</th>\n",
       "      <td>https://www.nytimes.com/2019/01/01/world/europe/russia-baby-rescue.html</td>\n",
       "      <td>2019-01-01T16:41:24+0000</td>\n",
       "      <td>MOSCOW — Rescue workers pulled a 10-month-old baby boy alive from a partly collapsed apartment building in central Russia on Tuesday, calling him a \"New Year miracle\" after he survived in the rubble for more than 35 hours in freezing temperatures.</td>\n",
       "      <td>1</td>\n",
       "      <td>2019</td>\n",
       "      <td>41</td>\n",
       "    </tr>\n",
       "    <tr>\n",
       "      <th>4</th>\n",
       "      <td>https://www.nytimes.com/2019/01/01/world/europe/germany-foreigners-attack.html</td>\n",
       "      <td>2019-01-01T17:57:51+0000</td>\n",
       "      <td>BERLIN — Targeting foreigners, a man repeatedly drove his car at pedestrians celebrating New Year’s Eve in western Germany, injuring four people before being arrested, the police and prosecutors said Tuesday.</td>\n",
       "      <td>1</td>\n",
       "      <td>2019</td>\n",
       "      <td>57</td>\n",
       "    </tr>\n",
       "    <tr>\n",
       "      <th>...</th>\n",
       "      <td>...</td>\n",
       "      <td>...</td>\n",
       "      <td>...</td>\n",
       "      <td>...</td>\n",
       "      <td>...</td>\n",
       "      <td>...</td>\n",
       "    </tr>\n",
       "    <tr>\n",
       "      <th>1880</th>\n",
       "      <td>https://www.nytimes.com/2024/12/31/crosswords/wordle-review-1292.html</td>\n",
       "      <td>2024-12-31T11:00:02+0000</td>\n",
       "      <td>Welcome to The Wordle Review. Be warned: This page contains spoilers for today’s puzzle. Solve Wordle first, or scroll at your own risk.</td>\n",
       "      <td>12</td>\n",
       "      <td>2024</td>\n",
       "      <td>0</td>\n",
       "    </tr>\n",
       "    <tr>\n",
       "      <th>1881</th>\n",
       "      <td>https://www.nytimes.com/2024/12/31/world/europe/new-years-eve-edinburgh-hogmanay-weather-canceled.html</td>\n",
       "      <td>2024-12-31T11:14:16+0000</td>\n",
       "      <td>The famed Hogmanay street party on New Year’s Eve in Edinburgh, the Scottish capital, has been canceled because of forecasts of rain, strong winds and snow.</td>\n",
       "      <td>12</td>\n",
       "      <td>2024</td>\n",
       "      <td>14</td>\n",
       "    </tr>\n",
       "    <tr>\n",
       "      <th>1882</th>\n",
       "      <td>https://www.nytimes.com/2024/12/31/us/puerto-rico-power-blackout.html</td>\n",
       "      <td>2024-12-31T14:16:12+0000</td>\n",
       "      <td>A sweeping blackout hit Puerto Rico early Tuesday morning, plunging nearly all of the island into darkness on New Year’s Eve.</td>\n",
       "      <td>12</td>\n",
       "      <td>2024</td>\n",
       "      <td>16</td>\n",
       "    </tr>\n",
       "    <tr>\n",
       "      <th>1883</th>\n",
       "      <td>https://www.nytimes.com/2024/12/31/world/new-years-eve-photos.html</td>\n",
       "      <td>2024-12-31T15:18:44+0000</td>\n",
       "      <td>In plazas and parks and bars and homes across the globe, people gathered to commemorate the end of 2024 and welcome the New Year. Bold swimmers plunged into a frigid lake in Switzerland, joggers in Poland took one last whimsical run of the year and fireworks crackled in citie...</td>\n",
       "      <td>12</td>\n",
       "      <td>2024</td>\n",
       "      <td>18</td>\n",
       "    </tr>\n",
       "    <tr>\n",
       "      <th>1884</th>\n",
       "      <td>https://www.nytimes.com/2024/12/31/nyregion/restaurants-new-years-eve-times-square.html</td>\n",
       "      <td>2024-12-31T16:07:45+0000</td>\n",
       "      <td>For many New Yorkers, Times Square on New Year’s Eve brings to mind one word: Nope.</td>\n",
       "      <td>12</td>\n",
       "      <td>2024</td>\n",
       "      <td>7</td>\n",
       "    </tr>\n",
       "  </tbody>\n",
       "</table>\n",
       "<p>1885 rows × 6 columns</p>\n",
       "</div>"
      ],
      "text/plain": [
       "                                                                                                     web_url  \\\n",
       "0                             https://www.nytimes.com/2019/01/01/us/politics/elizabeth-warren-president.html   \n",
       "1         https://www.nytimes.com/2019/01/01/arts/television/whats-on-tv-tuesday-marie-kondo-doctor-who.html   \n",
       "2       https://www.nytimes.com/2019/01/01/travel/three-new-years-resolutions-for-better-travel-in-2019.html   \n",
       "3                                    https://www.nytimes.com/2019/01/01/world/europe/russia-baby-rescue.html   \n",
       "4                             https://www.nytimes.com/2019/01/01/world/europe/germany-foreigners-attack.html   \n",
       "...                                                                                                      ...   \n",
       "1880                                   https://www.nytimes.com/2024/12/31/crosswords/wordle-review-1292.html   \n",
       "1881  https://www.nytimes.com/2024/12/31/world/europe/new-years-eve-edinburgh-hogmanay-weather-canceled.html   \n",
       "1882                                   https://www.nytimes.com/2024/12/31/us/puerto-rico-power-blackout.html   \n",
       "1883                                      https://www.nytimes.com/2024/12/31/world/new-years-eve-photos.html   \n",
       "1884                 https://www.nytimes.com/2024/12/31/nyregion/restaurants-new-years-eve-times-square.html   \n",
       "\n",
       "                      pub_date  \\\n",
       "0     2019-01-01T05:18:48+0000   \n",
       "1     2019-01-01T06:00:04+0000   \n",
       "2     2019-01-01T10:00:06+0000   \n",
       "3     2019-01-01T16:41:24+0000   \n",
       "4     2019-01-01T17:57:51+0000   \n",
       "...                        ...   \n",
       "1880  2024-12-31T11:00:02+0000   \n",
       "1881  2024-12-31T11:14:16+0000   \n",
       "1882  2024-12-31T14:16:12+0000   \n",
       "1883  2024-12-31T15:18:44+0000   \n",
       "1884  2024-12-31T16:07:45+0000   \n",
       "\n",
       "                                                                                                                                                                                                                                                                               lead_paragraph  \\\n",
       "0                                                                                                                                                                         Good Tuesday morning and Happy New Year. Here are some of the stories making news in Washington and politics today.   \n",
       "1                                                                                                                                                   Ring in the new year with some organization inspiration, courtesy of Marie Kondo, and the first-ever \"Doctor Who\" New Year’s Day special.   \n",
       "2                                                         It’s not uncommon for people to set unrealistic expectations when making New Year’s resolutions, which likely contributes to most of them failing. Over 90 percent of them do, according to research by the University of Scranton.   \n",
       "3                                     MOSCOW — Rescue workers pulled a 10-month-old baby boy alive from a partly collapsed apartment building in central Russia on Tuesday, calling him a \"New Year miracle\" after he survived in the rubble for more than 35 hours in freezing temperatures.   \n",
       "4                                                                            BERLIN — Targeting foreigners, a man repeatedly drove his car at pedestrians celebrating New Year’s Eve in western Germany, injuring four people before being arrested, the police and prosecutors said Tuesday.   \n",
       "...                                                                                                                                                                                                                                                                                       ...   \n",
       "1880                                                                                                                                                 Welcome to The Wordle Review. Be warned: This page contains spoilers for today’s puzzle. Solve Wordle first, or scroll at your own risk.   \n",
       "1881                                                                                                                             The famed Hogmanay street party on New Year’s Eve in Edinburgh, the Scottish capital, has been canceled because of forecasts of rain, strong winds and snow.   \n",
       "1882                                                                                                                                                            A sweeping blackout hit Puerto Rico early Tuesday morning, plunging nearly all of the island into darkness on New Year’s Eve.   \n",
       "1883  In plazas and parks and bars and homes across the globe, people gathered to commemorate the end of 2024 and welcome the New Year. Bold swimmers plunged into a frigid lake in Switzerland, joggers in Poland took one last whimsical run of the year and fireworks crackled in citie...   \n",
       "1884                                                                                                                                                                                                      For many New Yorkers, Times Square on New Year’s Eve brings to mind one word: Nope.   \n",
       "\n",
       "      Month  Year  Minute  \n",
       "0         1  2019      18  \n",
       "1         1  2019       0  \n",
       "2         1  2019       0  \n",
       "3         1  2019      41  \n",
       "4         1  2019      57  \n",
       "...     ...   ...     ...  \n",
       "1880     12  2024       0  \n",
       "1881     12  2024      14  \n",
       "1882     12  2024      16  \n",
       "1883     12  2024      18  \n",
       "1884     12  2024       7  \n",
       "\n",
       "[1885 rows x 6 columns]"
      ]
     },
     "execution_count": 11,
     "metadata": {},
     "output_type": "execute_result"
    }
   ],
   "source": [
    "news_df_dates = news_df.merge(right = dates, left_index = True, right_index = True)\n",
    "news_df_dates"
   ]
  },
  {
   "cell_type": "code",
   "execution_count": 12,
   "metadata": {
    "deletable": false,
    "editable": false
   },
   "outputs": [
    {
     "data": {
      "text/html": [
       "<p><strong><pre style='display: inline;'>q2aii</pre></strong> passed! 🙌</p>"
      ],
      "text/plain": [
       "q2aii results: All test cases passed!"
      ]
     },
     "execution_count": 12,
     "metadata": {},
     "output_type": "execute_result"
    }
   ],
   "source": [
    "grader.check(\"q2aii\")"
   ]
  },
  {
   "cell_type": "markdown",
   "metadata": {
    "deletable": false,
    "editable": false
   },
   "source": [
    "#### Question 2a, Part iii\n",
    "\n",
    "Add a column to `news_df_dates` called `Quarter` that contains the [fiscal quarter](https://www.investopedia.com/terms/q/quarter.asp#:~:text=The%20standard%20calendar%20quarters%20that,August%2C%20and%20September%20(Q3)) each news article was published.\n",
    "\n",
    "Each value of `Quarter` should be in the format `\"<Year>Q<Quarter Number>\"`.\n",
    "\n",
    "For example:\n",
    "- A news article published in May 2021 will have its `Quarter` value as `\"2021Q2\"`.\n",
    "- A news article published in October 2023 will have its `Quarter` value as `\"2023Q4\"`.\n",
    "\n",
    "Do not hardcode the conversion from month to quarter (e.g., using the dictionary `{1: 'Q1', 2: 'Q1', ..., 12: 'Q4'}`). Instead, perform a mathematical operation to convert the month to quarter.\n",
    "\n",
    "**Hint:** Adding two `Series` of strings (e.g., `ser_1 + ser_2`) performs an element-wise concatenation of their elements."
   ]
  },
  {
   "cell_type": "code",
   "execution_count": 13,
   "metadata": {
    "tags": [
     "otter_answer_cell"
    ]
   },
   "outputs": [
    {
     "data": {
      "text/html": [
       "<div>\n",
       "<style scoped>\n",
       "    .dataframe tbody tr th:only-of-type {\n",
       "        vertical-align: middle;\n",
       "    }\n",
       "\n",
       "    .dataframe tbody tr th {\n",
       "        vertical-align: top;\n",
       "    }\n",
       "\n",
       "    .dataframe thead th {\n",
       "        text-align: right;\n",
       "    }\n",
       "</style>\n",
       "<table border=\"1\" class=\"dataframe\">\n",
       "  <thead>\n",
       "    <tr style=\"text-align: right;\">\n",
       "      <th></th>\n",
       "      <th>web_url</th>\n",
       "      <th>pub_date</th>\n",
       "      <th>lead_paragraph</th>\n",
       "      <th>Month</th>\n",
       "      <th>Year</th>\n",
       "      <th>Minute</th>\n",
       "      <th>Quarter</th>\n",
       "    </tr>\n",
       "  </thead>\n",
       "  <tbody>\n",
       "    <tr>\n",
       "      <th>0</th>\n",
       "      <td>https://www.nytimes.com/2019/01/01/us/politics/elizabeth-warren-president.html</td>\n",
       "      <td>2019-01-01T05:18:48+0000</td>\n",
       "      <td>Good Tuesday morning and Happy New Year. Here are some of the stories making news in Washington and politics today.</td>\n",
       "      <td>1</td>\n",
       "      <td>2019</td>\n",
       "      <td>18</td>\n",
       "      <td>2019Q1</td>\n",
       "    </tr>\n",
       "    <tr>\n",
       "      <th>1</th>\n",
       "      <td>https://www.nytimes.com/2019/01/01/arts/television/whats-on-tv-tuesday-marie-kondo-doctor-who.html</td>\n",
       "      <td>2019-01-01T06:00:04+0000</td>\n",
       "      <td>Ring in the new year with some organization inspiration, courtesy of Marie Kondo, and the first-ever \"Doctor Who\" New Year’s Day special.</td>\n",
       "      <td>1</td>\n",
       "      <td>2019</td>\n",
       "      <td>0</td>\n",
       "      <td>2019Q1</td>\n",
       "    </tr>\n",
       "    <tr>\n",
       "      <th>2</th>\n",
       "      <td>https://www.nytimes.com/2019/01/01/travel/three-new-years-resolutions-for-better-travel-in-2019.html</td>\n",
       "      <td>2019-01-01T10:00:06+0000</td>\n",
       "      <td>It’s not uncommon for people to set unrealistic expectations when making New Year’s resolutions, which likely contributes to most of them failing. Over 90 percent of them do, according to research by the University of Scranton.</td>\n",
       "      <td>1</td>\n",
       "      <td>2019</td>\n",
       "      <td>0</td>\n",
       "      <td>2019Q1</td>\n",
       "    </tr>\n",
       "    <tr>\n",
       "      <th>3</th>\n",
       "      <td>https://www.nytimes.com/2019/01/01/world/europe/russia-baby-rescue.html</td>\n",
       "      <td>2019-01-01T16:41:24+0000</td>\n",
       "      <td>MOSCOW — Rescue workers pulled a 10-month-old baby boy alive from a partly collapsed apartment building in central Russia on Tuesday, calling him a \"New Year miracle\" after he survived in the rubble for more than 35 hours in freezing temperatures.</td>\n",
       "      <td>1</td>\n",
       "      <td>2019</td>\n",
       "      <td>41</td>\n",
       "      <td>2019Q1</td>\n",
       "    </tr>\n",
       "    <tr>\n",
       "      <th>4</th>\n",
       "      <td>https://www.nytimes.com/2019/01/01/world/europe/germany-foreigners-attack.html</td>\n",
       "      <td>2019-01-01T17:57:51+0000</td>\n",
       "      <td>BERLIN — Targeting foreigners, a man repeatedly drove his car at pedestrians celebrating New Year’s Eve in western Germany, injuring four people before being arrested, the police and prosecutors said Tuesday.</td>\n",
       "      <td>1</td>\n",
       "      <td>2019</td>\n",
       "      <td>57</td>\n",
       "      <td>2019Q1</td>\n",
       "    </tr>\n",
       "    <tr>\n",
       "      <th>...</th>\n",
       "      <td>...</td>\n",
       "      <td>...</td>\n",
       "      <td>...</td>\n",
       "      <td>...</td>\n",
       "      <td>...</td>\n",
       "      <td>...</td>\n",
       "      <td>...</td>\n",
       "    </tr>\n",
       "    <tr>\n",
       "      <th>1880</th>\n",
       "      <td>https://www.nytimes.com/2024/12/31/crosswords/wordle-review-1292.html</td>\n",
       "      <td>2024-12-31T11:00:02+0000</td>\n",
       "      <td>Welcome to The Wordle Review. Be warned: This page contains spoilers for today’s puzzle. Solve Wordle first, or scroll at your own risk.</td>\n",
       "      <td>12</td>\n",
       "      <td>2024</td>\n",
       "      <td>0</td>\n",
       "      <td>2024Q4</td>\n",
       "    </tr>\n",
       "    <tr>\n",
       "      <th>1881</th>\n",
       "      <td>https://www.nytimes.com/2024/12/31/world/europe/new-years-eve-edinburgh-hogmanay-weather-canceled.html</td>\n",
       "      <td>2024-12-31T11:14:16+0000</td>\n",
       "      <td>The famed Hogmanay street party on New Year’s Eve in Edinburgh, the Scottish capital, has been canceled because of forecasts of rain, strong winds and snow.</td>\n",
       "      <td>12</td>\n",
       "      <td>2024</td>\n",
       "      <td>14</td>\n",
       "      <td>2024Q4</td>\n",
       "    </tr>\n",
       "    <tr>\n",
       "      <th>1882</th>\n",
       "      <td>https://www.nytimes.com/2024/12/31/us/puerto-rico-power-blackout.html</td>\n",
       "      <td>2024-12-31T14:16:12+0000</td>\n",
       "      <td>A sweeping blackout hit Puerto Rico early Tuesday morning, plunging nearly all of the island into darkness on New Year’s Eve.</td>\n",
       "      <td>12</td>\n",
       "      <td>2024</td>\n",
       "      <td>16</td>\n",
       "      <td>2024Q4</td>\n",
       "    </tr>\n",
       "    <tr>\n",
       "      <th>1883</th>\n",
       "      <td>https://www.nytimes.com/2024/12/31/world/new-years-eve-photos.html</td>\n",
       "      <td>2024-12-31T15:18:44+0000</td>\n",
       "      <td>In plazas and parks and bars and homes across the globe, people gathered to commemorate the end of 2024 and welcome the New Year. Bold swimmers plunged into a frigid lake in Switzerland, joggers in Poland took one last whimsical run of the year and fireworks crackled in citie...</td>\n",
       "      <td>12</td>\n",
       "      <td>2024</td>\n",
       "      <td>18</td>\n",
       "      <td>2024Q4</td>\n",
       "    </tr>\n",
       "    <tr>\n",
       "      <th>1884</th>\n",
       "      <td>https://www.nytimes.com/2024/12/31/nyregion/restaurants-new-years-eve-times-square.html</td>\n",
       "      <td>2024-12-31T16:07:45+0000</td>\n",
       "      <td>For many New Yorkers, Times Square on New Year’s Eve brings to mind one word: Nope.</td>\n",
       "      <td>12</td>\n",
       "      <td>2024</td>\n",
       "      <td>7</td>\n",
       "      <td>2024Q4</td>\n",
       "    </tr>\n",
       "  </tbody>\n",
       "</table>\n",
       "<p>1885 rows × 7 columns</p>\n",
       "</div>"
      ],
      "text/plain": [
       "                                                                                                     web_url  \\\n",
       "0                             https://www.nytimes.com/2019/01/01/us/politics/elizabeth-warren-president.html   \n",
       "1         https://www.nytimes.com/2019/01/01/arts/television/whats-on-tv-tuesday-marie-kondo-doctor-who.html   \n",
       "2       https://www.nytimes.com/2019/01/01/travel/three-new-years-resolutions-for-better-travel-in-2019.html   \n",
       "3                                    https://www.nytimes.com/2019/01/01/world/europe/russia-baby-rescue.html   \n",
       "4                             https://www.nytimes.com/2019/01/01/world/europe/germany-foreigners-attack.html   \n",
       "...                                                                                                      ...   \n",
       "1880                                   https://www.nytimes.com/2024/12/31/crosswords/wordle-review-1292.html   \n",
       "1881  https://www.nytimes.com/2024/12/31/world/europe/new-years-eve-edinburgh-hogmanay-weather-canceled.html   \n",
       "1882                                   https://www.nytimes.com/2024/12/31/us/puerto-rico-power-blackout.html   \n",
       "1883                                      https://www.nytimes.com/2024/12/31/world/new-years-eve-photos.html   \n",
       "1884                 https://www.nytimes.com/2024/12/31/nyregion/restaurants-new-years-eve-times-square.html   \n",
       "\n",
       "                      pub_date  \\\n",
       "0     2019-01-01T05:18:48+0000   \n",
       "1     2019-01-01T06:00:04+0000   \n",
       "2     2019-01-01T10:00:06+0000   \n",
       "3     2019-01-01T16:41:24+0000   \n",
       "4     2019-01-01T17:57:51+0000   \n",
       "...                        ...   \n",
       "1880  2024-12-31T11:00:02+0000   \n",
       "1881  2024-12-31T11:14:16+0000   \n",
       "1882  2024-12-31T14:16:12+0000   \n",
       "1883  2024-12-31T15:18:44+0000   \n",
       "1884  2024-12-31T16:07:45+0000   \n",
       "\n",
       "                                                                                                                                                                                                                                                                               lead_paragraph  \\\n",
       "0                                                                                                                                                                         Good Tuesday morning and Happy New Year. Here are some of the stories making news in Washington and politics today.   \n",
       "1                                                                                                                                                   Ring in the new year with some organization inspiration, courtesy of Marie Kondo, and the first-ever \"Doctor Who\" New Year’s Day special.   \n",
       "2                                                         It’s not uncommon for people to set unrealistic expectations when making New Year’s resolutions, which likely contributes to most of them failing. Over 90 percent of them do, according to research by the University of Scranton.   \n",
       "3                                     MOSCOW — Rescue workers pulled a 10-month-old baby boy alive from a partly collapsed apartment building in central Russia on Tuesday, calling him a \"New Year miracle\" after he survived in the rubble for more than 35 hours in freezing temperatures.   \n",
       "4                                                                            BERLIN — Targeting foreigners, a man repeatedly drove his car at pedestrians celebrating New Year’s Eve in western Germany, injuring four people before being arrested, the police and prosecutors said Tuesday.   \n",
       "...                                                                                                                                                                                                                                                                                       ...   \n",
       "1880                                                                                                                                                 Welcome to The Wordle Review. Be warned: This page contains spoilers for today’s puzzle. Solve Wordle first, or scroll at your own risk.   \n",
       "1881                                                                                                                             The famed Hogmanay street party on New Year’s Eve in Edinburgh, the Scottish capital, has been canceled because of forecasts of rain, strong winds and snow.   \n",
       "1882                                                                                                                                                            A sweeping blackout hit Puerto Rico early Tuesday morning, plunging nearly all of the island into darkness on New Year’s Eve.   \n",
       "1883  In plazas and parks and bars and homes across the globe, people gathered to commemorate the end of 2024 and welcome the New Year. Bold swimmers plunged into a frigid lake in Switzerland, joggers in Poland took one last whimsical run of the year and fireworks crackled in citie...   \n",
       "1884                                                                                                                                                                                                      For many New Yorkers, Times Square on New Year’s Eve brings to mind one word: Nope.   \n",
       "\n",
       "      Month  Year  Minute Quarter  \n",
       "0         1  2019      18  2019Q1  \n",
       "1         1  2019       0  2019Q1  \n",
       "2         1  2019       0  2019Q1  \n",
       "3         1  2019      41  2019Q1  \n",
       "4         1  2019      57  2019Q1  \n",
       "...     ...   ...     ...     ...  \n",
       "1880     12  2024       0  2024Q4  \n",
       "1881     12  2024      14  2024Q4  \n",
       "1882     12  2024      16  2024Q4  \n",
       "1883     12  2024      18  2024Q4  \n",
       "1884     12  2024       7  2024Q4  \n",
       "\n",
       "[1885 rows x 7 columns]"
      ]
     },
     "execution_count": 13,
     "metadata": {},
     "output_type": "execute_result"
    }
   ],
   "source": [
    "news_df_dates['Quarter'] = np.ceil(news_df_dates['Month'] / 3).astype(int)\n",
    "news_df_dates['Quarter'] = news_df_dates['Year'].astype('string') + 'Q' + news_df_dates['Quarter'].astype('string')\n",
    "news_df_dates"
   ]
  },
  {
   "cell_type": "code",
   "execution_count": 14,
   "metadata": {
    "deletable": false,
    "editable": false
   },
   "outputs": [
    {
     "data": {
      "text/html": [
       "<p><strong><pre style='display: inline;'>q2aiii</pre></strong> passed! 🌈</p>"
      ],
      "text/plain": [
       "q2aiii results: All test cases passed!"
      ]
     },
     "execution_count": 14,
     "metadata": {},
     "output_type": "execute_result"
    }
   ],
   "source": [
    "grader.check(\"q2aiii\")"
   ]
  },
  {
   "cell_type": "markdown",
   "metadata": {
    "deletable": false,
    "editable": false
   },
   "source": [
    "<br>\n",
    "\n",
    "---\n",
    "\n",
    "###  Question 2b\n",
    "\n",
    "In this question, we will answer some EDA questions about `news_df_dates`.\n",
    "\n",
    "####  Question 2b, Part i\n",
    "In `news_df_dates`, suppose we create a new column `num_google_mentions` that records the number of times the word `\"google\"` is mentioned in each news article. What type of variable is `num_google_mentions`?\n",
    "\n",
    "**A.** Quantitative variable<br/>\n",
    "**B.** Qualitative Ordinal variable<br/>\n",
    "**C.** Qualitative Nominal variable\n",
    "\n",
    "Answer in the following cell. Your answer should be a string, either `\"A\"`, `\"B\"`, or `\"C\"`, stored in the variable `q2bi`."
   ]
  },
  {
   "cell_type": "code",
   "execution_count": 15,
   "metadata": {
    "tags": [
     "otter_answer_cell"
    ]
   },
   "outputs": [],
   "source": [
    "q2bi = 'A'"
   ]
  },
  {
   "cell_type": "code",
   "execution_count": 16,
   "metadata": {
    "deletable": false,
    "editable": false
   },
   "outputs": [
    {
     "data": {
      "text/html": [
       "<p><strong><pre style='display: inline;'>q2bi</pre></strong> passed! 🚀</p>"
      ],
      "text/plain": [
       "q2bi results: All test cases passed!"
      ]
     },
     "execution_count": 16,
     "metadata": {},
     "output_type": "execute_result"
    }
   ],
   "source": [
    "grader.check(\"q2bi\")"
   ]
  },
  {
   "cell_type": "markdown",
   "metadata": {
    "deletable": false,
    "editable": false
   },
   "source": [
    "####  Question 2b, Part ii\n",
    "Which of the following options best describes the granularity of `news_df_dates`? \n",
    "\n",
    "Each row in `news_df_dates` uniquely describes:\n",
    "\n",
    "**A.** A calendar date. <br/>\n",
    "**B.** An hour of a calendar date. <br/>\n",
    "**C.** A news article.\n",
    "\n",
    "Answer in the following cell. Your answer should be a string, either `\"A\"`, `\"B\"`, or `\"C\"`, stored in the variable `q2bii`."
   ]
  },
  {
   "cell_type": "code",
   "execution_count": 17,
   "metadata": {
    "tags": [
     "otter_answer_cell"
    ]
   },
   "outputs": [],
   "source": [
    "q2bii = 'C'"
   ]
  },
  {
   "cell_type": "code",
   "execution_count": 18,
   "metadata": {
    "deletable": false,
    "editable": false
   },
   "outputs": [
    {
     "data": {
      "text/html": [
       "<p><strong><pre style='display: inline;'>q2bii</pre></strong> passed! 🚀</p>"
      ],
      "text/plain": [
       "q2bii results: All test cases passed!"
      ]
     },
     "execution_count": 18,
     "metadata": {},
     "output_type": "execute_result"
    }
   ],
   "source": [
    "grader.check(\"q2bii\")"
   ]
  },
  {
   "cell_type": "markdown",
   "metadata": {
    "deletable": false,
    "editable": false
   },
   "source": [
    "<!-- BEGIN QUESTION -->\n",
    "\n",
    "####  Question 2b, Part iii\n",
    "\n",
    "Suppose we wanted to investigate trends in how often the word `\"AI\"` is mentioned in NYT articles since the 1980s.\n",
    "\n",
    "Is `news_df` a suitable dataset for this investigation? Explain your reasoning."
   ]
  },
  {
   "cell_type": "markdown",
   "metadata": {
    "tags": [
     "otter_answer_cell"
    ]
   },
   "source": [
    "_news_df certainly wouldn't be the best option for this investigation for a couple of reasons. Most decisively, the news_df only contains articles from the start of 2019 onwards, which doesn't make it very suitable for an investigation going all the way back to the 1980s._"
   ]
  },
  {
   "cell_type": "markdown",
   "metadata": {
    "deletable": false,
    "editable": false
   },
   "source": [
    "<!-- END QUESTION -->\n",
    "\n",
    "<br>\n",
    "\n",
    "---\n",
    "\n",
    "###  Question 2c\n",
    "\n",
    "Some news articles include quotes in their lead paragraph (i.e., first paragraph) to grab the reader's attention and provide additional context. For the purposes of this question, a quote is defined as a sequence of characters starting with the character `\"` and ending with a period (`.`), question mark (`?`), or exclamation point (`!`), followed by a closing `\"`. For example:\n",
    "- `\"The mitochondria is the powerhouse of the cell!\"`\n",
    "- `\"Did DATA C100 course staff host a social event with staff from DATA C8?\"`\n",
    "- `\"R is great.\" A TA said, \"but have you tried using Python?\"`\n",
    "\n",
    "If we follow the definition above, the following text snippet contains two quotes:\n",
    "- `The TA asked, \"What's the purpose of regular expressions?\" The student thought for a moment and then replied, \"Regex are used to identify patterns in text.\"`"
   ]
  },
  {
   "cell_type": "markdown",
   "metadata": {
    "deletable": false,
    "editable": false
   },
   "source": [
    "\n",
    "\n",
    "Brandon wants to extract individual quotes from paragraphs using the definition of a quote given above.\n",
    "Brandon proposes the regex pattern `r'\\\".*[\\.\\?\\!]\\\"'`. Unfortunately, Brandon's pattern identifies only one quote in the test string below instead of two.\n",
    "\n",
    "Modify Brandon's regex pattern so that it correctly matches the two quotes individually. Store your new pattern in the variable `modified_pattern`."
   ]
  },
  {
   "cell_type": "code",
   "execution_count": 19,
   "metadata": {
    "tags": [
     "otter_answer_cell"
    ]
   },
   "outputs": [
    {
     "name": "stdout",
     "output_type": "stream",
     "text": [
      "Test string: \"How are your classes?\" the student asked. \"Super challenging! But a lot of fun!\" said their roommate.\n",
      "Original pattern identifies: ['\"How are your classes?\" the student asked. \"Super challenging! But a lot of fun!\"']\n",
      "Modified pattern identifies: ['\"How are your classes?\"', '\"Super challenging! But a lot of fun!\"']\n"
     ]
    }
   ],
   "source": [
    "test_string = '\"How are your classes?\" the student asked. \"Super challenging! But a lot of fun!\" said their roommate.'\n",
    "\n",
    "print(\"Test string:\", test_string)\n",
    "print(\"Original pattern identifies:\", re.findall(r'\\\".*[\\.\\?\\!]\\\"', test_string))\n",
    "\n",
    "modified_pattern = r'\\\".*?[\\.\\?\\!]\\\"'\n",
    "print(\"Modified pattern identifies:\", re.findall(modified_pattern, test_string))"
   ]
  },
  {
   "cell_type": "code",
   "execution_count": 20,
   "metadata": {
    "deletable": false,
    "editable": false
   },
   "outputs": [
    {
     "data": {
      "text/html": [
       "<p><strong><pre style='display: inline;'>q2c</pre></strong> passed! 🌈</p>"
      ],
      "text/plain": [
       "q2c results: All test cases passed!"
      ]
     },
     "execution_count": 20,
     "metadata": {},
     "output_type": "execute_result"
    }
   ],
   "source": [
    "grader.check(\"q2c\")"
   ]
  },
  {
   "cell_type": "markdown",
   "metadata": {
    "deletable": false,
    "editable": false
   },
   "source": [
    "<br>\n",
    "\n",
    "---\n",
    "\n",
    "###  Question 2d\n",
    "\n",
    "Next, we will investigate popularity trends of the following four topics: [New Year](https://en.wikipedia.org/wiki/New_Year), [Wordle](https://www.nytimes.com/games/wordle/index.html), [Zoom](https://www.zoom.com/), and [GPT models](https://en.wikipedia.org/wiki/Generative_pre-trained_transformer).\n",
    "\n",
    "For each topic, add an integer column to `news_df_dates` indicating the number of times the topic is mentioned in the `lead_paragraph` (i.e., first paragraph) of each article. \n",
    "\n",
    "- The columns should be named `\"New Year\"`,  `\"Zoom\"`, `\"Wordle\"`, and `\"GPT Model\"`.\n",
    "\n",
    "- You may use a `for` loop to iterate over a list of the four topics.\n",
    "\n",
    "Here are the definitions of a single \"mention\" of each topic:\n",
    "- New Year: An appearance of `\"New Year\"` or `\"New Years\"`, surrounded by non-word characters, in the lead paragraph of the article. For example, `\"Happy New Year!\"` is a match.\n",
    "- Wordle: `\"Wordle\"`, surrounded by non-word characters. For example, `\"Wordless\"` would not match.\n",
    "- Zoom: `\"Zoom\"`, surrounded by non-word characters. For example, `\"Zoomer\"` would not match.\n",
    "- GPT Model: either (1) a consecutive sequence of alphabetical characters, followed by an optional dash (`-`), then `GPT`; or (2) `GPT`, then a dash (`-`), then a numeric digit, then an optional alphabetical character.\n",
    "    - For example, these words match: `\"ChatGPT\"`, `\"CHAT-GPT\"`, `\"GPT-3\"`, `\"GPT-4o\"`.\n",
    "    - However, these words do not match: `\"chatgpt\"`, `\"chatgpt-4o\"`.\n"
   ]
  },
  {
   "cell_type": "code",
   "execution_count": 21,
   "metadata": {
    "tags": [
     "otter_answer_cell"
    ]
   },
   "outputs": [
    {
     "data": {
      "text/html": [
       "<div>\n",
       "<style scoped>\n",
       "    .dataframe tbody tr th:only-of-type {\n",
       "        vertical-align: middle;\n",
       "    }\n",
       "\n",
       "    .dataframe tbody tr th {\n",
       "        vertical-align: top;\n",
       "    }\n",
       "\n",
       "    .dataframe thead th {\n",
       "        text-align: right;\n",
       "    }\n",
       "</style>\n",
       "<table border=\"1\" class=\"dataframe\">\n",
       "  <thead>\n",
       "    <tr style=\"text-align: right;\">\n",
       "      <th></th>\n",
       "      <th>web_url</th>\n",
       "      <th>pub_date</th>\n",
       "      <th>lead_paragraph</th>\n",
       "      <th>Month</th>\n",
       "      <th>Year</th>\n",
       "      <th>Minute</th>\n",
       "      <th>Quarter</th>\n",
       "      <th>New Year</th>\n",
       "      <th>Zoom</th>\n",
       "      <th>Wordle</th>\n",
       "      <th>GPT Model</th>\n",
       "    </tr>\n",
       "  </thead>\n",
       "  <tbody>\n",
       "    <tr>\n",
       "      <th>0</th>\n",
       "      <td>https://www.nytimes.com/2019/01/01/us/politics/elizabeth-warren-president.html</td>\n",
       "      <td>2019-01-01T05:18:48+0000</td>\n",
       "      <td>Good Tuesday morning and Happy New Year. Here are some of the stories making news in Washington and politics today.</td>\n",
       "      <td>1</td>\n",
       "      <td>2019</td>\n",
       "      <td>18</td>\n",
       "      <td>2019Q1</td>\n",
       "      <td>1</td>\n",
       "      <td>0</td>\n",
       "      <td>0</td>\n",
       "      <td>0</td>\n",
       "    </tr>\n",
       "  </tbody>\n",
       "</table>\n",
       "</div>"
      ],
      "text/plain": [
       "                                                                          web_url  \\\n",
       "0  https://www.nytimes.com/2019/01/01/us/politics/elizabeth-warren-president.html   \n",
       "\n",
       "                   pub_date  \\\n",
       "0  2019-01-01T05:18:48+0000   \n",
       "\n",
       "                                                                                                        lead_paragraph  \\\n",
       "0  Good Tuesday morning and Happy New Year. Here are some of the stories making news in Washington and politics today.   \n",
       "\n",
       "   Month  Year  Minute Quarter  New Year  Zoom  Wordle  GPT Model  \n",
       "0      1  2019      18  2019Q1         1     0       0          0  "
      ]
     },
     "execution_count": 21,
     "metadata": {},
     "output_type": "execute_result"
    }
   ],
   "source": [
    "text_series = news_df_dates['lead_paragraph']\n",
    "words = ['New Year', 'Zoom', 'Wordle', 'GPT Model']\n",
    "news_df_dates['New Year'] = text_series.str.count(r'\\bNew Year\\b|\\bNew Years\\b')\n",
    "news_df_dates['Zoom'] = text_series.str.count(r'\\bZoom\\b')\n",
    "news_df_dates['Wordle'] = text_series.str.count(r'\\bWordle\\b')\n",
    "news_df_dates['GPT Model'] = text_series.str.count(r'\\b[a-zA-Z]+-?GPT\\b|\\bGPT-\\d[a-zA-Z]?\\b')\n",
    "\n",
    "news_df_dates.head(1)"
   ]
  },
  {
   "cell_type": "code",
   "execution_count": 22,
   "metadata": {
    "deletable": false,
    "editable": false
   },
   "outputs": [
    {
     "data": {
      "text/html": [
       "<p><strong><pre style='display: inline;'>q2d</pre></strong> passed! 🌟</p>"
      ],
      "text/plain": [
       "q2d results: All test cases passed!"
      ]
     },
     "execution_count": 22,
     "metadata": {},
     "output_type": "execute_result"
    }
   ],
   "source": [
    "grader.check(\"q2d\")"
   ]
  },
  {
   "cell_type": "markdown",
   "metadata": {
    "deletable": false,
    "editable": false
   },
   "source": [
    "<br>\n",
    "\n",
    "---\n",
    "\n",
    "###  Question 2e\n",
    "\n",
    "Create a new `DataFrame` called `topic_mentions` with the following characteristics:\n",
    "\n",
    "- There should be one column for each topic (`\"New Year\"`,  `\"Zoom\"`, `\"Wordle\"`, and `\"GPT Model\"`).\n",
    "\n",
    "- The index should be `Quarter`.\n",
    "\n",
    "- The values are the number of articles that mentioned each topic in each quarter. \n",
    "\n",
    "**Hint**: Define a helper function `num_mentioned(ser)`, which takes a `Series` object `ser` and returns the number of entries in `ser` that are larger than `0`."
   ]
  },
  {
   "cell_type": "code",
   "execution_count": 23,
   "metadata": {
    "tags": [
     "otter_answer_cell"
    ]
   },
   "outputs": [
    {
     "data": {
      "text/html": [
       "<div>\n",
       "<style scoped>\n",
       "    .dataframe tbody tr th:only-of-type {\n",
       "        vertical-align: middle;\n",
       "    }\n",
       "\n",
       "    .dataframe tbody tr th {\n",
       "        vertical-align: top;\n",
       "    }\n",
       "\n",
       "    .dataframe thead th {\n",
       "        text-align: right;\n",
       "    }\n",
       "</style>\n",
       "<table border=\"1\" class=\"dataframe\">\n",
       "  <thead>\n",
       "    <tr style=\"text-align: right;\">\n",
       "      <th></th>\n",
       "      <th>New Year</th>\n",
       "      <th>Zoom</th>\n",
       "      <th>Wordle</th>\n",
       "      <th>GPT Model</th>\n",
       "    </tr>\n",
       "    <tr>\n",
       "      <th>Quarter</th>\n",
       "      <th></th>\n",
       "      <th></th>\n",
       "      <th></th>\n",
       "      <th></th>\n",
       "    </tr>\n",
       "  </thead>\n",
       "  <tbody>\n",
       "    <tr>\n",
       "      <th>2023Q1</th>\n",
       "      <td>58</td>\n",
       "      <td>16</td>\n",
       "      <td>23</td>\n",
       "      <td>40</td>\n",
       "    </tr>\n",
       "    <tr>\n",
       "      <th>2023Q2</th>\n",
       "      <td>4</td>\n",
       "      <td>8</td>\n",
       "      <td>96</td>\n",
       "      <td>23</td>\n",
       "    </tr>\n",
       "    <tr>\n",
       "      <th>2023Q3</th>\n",
       "      <td>2</td>\n",
       "      <td>6</td>\n",
       "      <td>95</td>\n",
       "      <td>27</td>\n",
       "    </tr>\n",
       "    <tr>\n",
       "      <th>2023Q4</th>\n",
       "      <td>24</td>\n",
       "      <td>4</td>\n",
       "      <td>97</td>\n",
       "      <td>26</td>\n",
       "    </tr>\n",
       "  </tbody>\n",
       "</table>\n",
       "</div>"
      ],
      "text/plain": [
       "         New Year  Zoom  Wordle  GPT Model\n",
       "Quarter                                   \n",
       "2023Q1         58    16      23         40\n",
       "2023Q2          4     8      96         23\n",
       "2023Q3          2     6      95         27\n",
       "2023Q4         24     4      97         26"
      ]
     },
     "execution_count": 23,
     "metadata": {},
     "output_type": "execute_result"
    }
   ],
   "source": [
    "topics = [\"New Year\", \"Wordle\", \"Zoom\", \"GPT Model\"]\n",
    "\n",
    "def num_mentioned(ser):\n",
    "    return np.count_nonzero(ser)\n",
    "\n",
    "topic_mentions = news_df_dates.groupby('Quarter').agg(num_mentioned)\n",
    "topic_mentions = topic_mentions[['New Year', 'Zoom', 'Wordle', 'GPT Model']]\n",
    "\n",
    "# Year 2023 records\n",
    "topic_mentions[16:20]"
   ]
  },
  {
   "cell_type": "code",
   "execution_count": 24,
   "metadata": {
    "deletable": false,
    "editable": false
   },
   "outputs": [
    {
     "data": {
      "text/html": [
       "<p><strong><pre style='display: inline;'>q2e</pre></strong> passed! 🌟</p>"
      ],
      "text/plain": [
       "q2e results: All test cases passed!"
      ]
     },
     "execution_count": 24,
     "metadata": {},
     "output_type": "execute_result"
    }
   ],
   "source": [
    "grader.check(\"q2e\")"
   ]
  },
  {
   "cell_type": "markdown",
   "metadata": {
    "deletable": false,
    "editable": false
   },
   "source": [
    "<!-- BEGIN QUESTION -->\n",
    "\n",
    "<br>\n",
    "\n",
    "---\n",
    "### Question 2f\n",
    "\n",
    "Let's visualize the article counts for each topic by quarter from 2019 to 2024."
   ]
  },
  {
   "cell_type": "markdown",
   "metadata": {
    "deletable": false,
    "editable": false
   },
   "source": [
    "#### Question 2f, Part i\n",
    "\n",
    "Using `sns.lineplot` ([documentation](https://seaborn.pydata.org/generated/seaborn.lineplot.html)) and `topic_mentions`, visualize the topic trends across quarters. Your plot should look like this:\n",
    "\n",
    "<center>\n",
    "    <img src=\"./images/topic_mentions.png\" width=\"750\" align=\"left\">\n",
    "</center>\n",
    "\n"
   ]
  },
  {
   "cell_type": "code",
   "execution_count": 25,
   "metadata": {
    "tags": [
     "otter_answer_cell"
    ]
   },
   "outputs": [
    {
     "data": {
      "image/png": "[encoded data removed]",
      "text/plain": [
       "<Figure size 1200x500 with 1 Axes>"
      ]
     },
     "metadata": {},
     "output_type": "display_data"
    }
   ],
   "source": [
    "plt.figure(figsize=(12, 5)) # DO NOT MODIFY\n",
    "\n",
    "for topic in topics:\n",
    "    sns.lineplot(data=topic_mentions[topic])\n",
    "\n",
    "# DO NOT MODIFY THE CODE BELOW\n",
    "# If your solution above is correct, running this cell should produce the plot above.\n",
    "plt.xticks(rotation=60)\n",
    "plt.yticks()\n",
    "plt.ylabel(\"Number of Articles\")\n",
    "plt.xlabel(\"Quarter\")\n",
    "plt.title(\"Number of Articles Released (2019-2024)\")\n",
    "plt.gcf().set_facecolor('white')\n",
    "plt.show()"
   ]
  },
  {
   "cell_type": "markdown",
   "metadata": {
    "deletable": false,
    "editable": false
   },
   "source": [
    "<!-- END QUESTION -->\n",
    "\n",
    "<!-- BEGIN QUESTION -->\n",
    "\n",
    "####  Question 2f, Part ii\n",
    "\n",
    "For each of the four topics, identify one interesting pattern in the visualization and provide a tentative explanation of why you think the pattern exists.\n",
    "\n",
    "\n",
    "<br>\n",
    "\n",
    "<center>\n",
    "    <img src = \"images/topic_mentions.png\" width = \"750\" align=\"left\">\n",
    "</center>"
   ]
  },
  {
   "cell_type": "markdown",
   "metadata": {
    "tags": [
     "otter_answer_cell"
    ]
   },
   "source": [
    "_Unsurprisingly, the term \"New Year\" peaks during the first quarter of every... 'new year', before falling back to its usual rate.\n",
    "<br><br>The frequency of the word Zoom took off at the start of the pandemic, when education and enterprise moved online, and has largely returned to normal usage since.\n",
    "<br><br>GPT Models were almost unheard of until 2023, at least if the NYT is anything to go by. After its initial peak, the usage of \"GPT Model\" has remained prevalent, but not quite as massive as it once was.\n",
    "<br><br>The NYT game Wordle exploded at the start of 2023, and has remained a hot topic in the NYT since. This likely has something to do with NYT having purchased the game, and the Times subsequently writing about Wordle to keep it in the conversation._"
   ]
  },
  {
   "cell_type": "markdown",
   "metadata": {
    "deletable": false,
    "editable": false
   },
   "source": [
    "<!-- END QUESTION -->\n",
    "\n",
    "<br/>\n",
    "\n",
    "<hr style=\"border: 1px solid #fdb515;\" />\n",
    "\n",
    "##  Question 3: Sentiment Analysis\n",
    "\n",
    "**Sentiment analysis** involves using an NLP model to classify the emotional tone of text. For example, \"You're great!\" has a positive sentiment, while \"I feel horrible\" has a negative sentiment.\n",
    "\n",
    "In this section, we will explore temporal changes in the **sentiment** of NYT articles that mention each topic.\n",
    "\n",
    "> The sentiment values in this section were computed using a fine-tuned version of the **DistilBERT** model ([GitHub](https://github.com/huggingface/transformers/tree/main/examples/research_projects/distillation), [original paper](https://arxiv.org/abs/1910.01108)).\n",
    ">\n",
    "> DistilBERT is a neural network-based language model similar to ChatGPT. These models are not covered in Data 100, and we don't expect you to know how they work. If you're interested in learning more, consider taking `CS182: Neural Networks` or `Data 102: Data, Inference, and Decisions`.\n",
    ">\n",
    "> The [HuggingFace library](https://huggingface.co/) was used to build the sentiment analysis pipeline and load the model. [Here](https://huggingface.co/distilbert/distilbert-base-uncased-finetuned-sst-2-english) is the **model card** of the `DistilBERT` model we used. The model card contains general information about the model, such as training arguments and training data. Again, you don't need to know these details for Data 100!\n",
    "\n",
    "Run the following three cells to set up the sentiment analysis pipeline and see examples of how we can get the sentiment for different strings.\n"
   ]
  },
  {
   "cell_type": "code",
   "execution_count": 26,
   "metadata": {
    "deletable": false,
    "editable": false
   },
   "outputs": [
    {
     "name": "stderr",
     "output_type": "stream",
     "text": [
      "2025-02-19 00:11:40.755288: I tensorflow/core/util/port.cc:153] oneDNN custom operations are on. You may see slightly different numerical results due to floating-point round-off errors from different computation orders. To turn them off, set the environment variable `TF_ENABLE_ONEDNN_OPTS=0`.\n",
      "2025-02-19 00:11:40.790621: I tensorflow/core/platform/cpu_feature_guard.cc:210] This TensorFlow binary is optimized to use available CPU instructions in performance-critical operations.\n",
      "To enable the following instructions: SSE4.1 SSE4.2 AVX AVX2 AVX512F AVX512_VNNI FMA, in other operations, rebuild TensorFlow with the appropriate compiler flags.\n"
     ]
    }
   ],
   "source": [
    "from transformers import pipeline\n",
    "model_checkpoint = \"distilbert/distilbert-base-uncased-finetuned-sst-2-english\""
   ]
  },
  {
   "cell_type": "code",
   "execution_count": 27,
   "metadata": {
    "deletable": false,
    "editable": false
   },
   "outputs": [],
   "source": [
    "# Load the model\n",
    "sentiment_analysis = pipeline(\"sentiment-analysis\", model=model_checkpoint)"
   ]
  },
  {
   "cell_type": "code",
   "execution_count": 28,
   "metadata": {
    "deletable": false,
    "editable": false
   },
   "outputs": [
    {
     "name": "stdout",
     "output_type": "stream",
     "text": [
      "Example 1: [{'label': 'POSITIVE', 'score': 0.9955033659934998}]\n",
      "Example 2: [{'label': 'NEGATIVE', 'score': 0.9987561702728271}]\n",
      "Example 3: [{'label': 'POSITIVE', 'score': 0.9975079298019409}]\n"
     ]
    }
   ],
   "source": [
    "# Get the sentiment of a given string\n",
    "sentiment_1 = sentiment_analysis(\"I have two dogs.\")\n",
    "print(\"Example 1: \" + str(sentiment_1))\n",
    "\n",
    "sentiment_2 = sentiment_analysis(\"I do not have dogs.\")\n",
    "print(\"Example 2: \" + str(sentiment_2))\n",
    "\n",
    "sentiment_3 = sentiment_analysis(\"Fortunately, I do not have dogs to worry about.\")\n",
    "print(\"Example 3: \" + str(sentiment_3))"
   ]
  },
  {
   "cell_type": "markdown",
   "metadata": {
    "deletable": false,
    "editable": false
   },
   "source": [
    "As you can see, the model can determine the sentiment of phrases/sentences (not just words). The model measures the phrase's **polarity**, indicating how strongly negative or positive it is on a scale of 0 to 1.\n",
    "\n",
    "**Note:** The output is a list, and each list element is a dictionary with two keys (label and score). Note that we could have gotten the sentiments of the two sentences by putting them in a list (batch) and then running the pipeline once (see the code below).\n"
   ]
  },
  {
   "cell_type": "code",
   "execution_count": 29,
   "metadata": {
    "deletable": false,
    "editable": false
   },
   "outputs": [
    {
     "name": "stdout",
     "output_type": "stream",
     "text": [
      "[{'label': 'POSITIVE', 'score': 0.9955033659934998}, {'label': 'NEGATIVE', 'score': 0.9987561702728271}]\n"
     ]
    }
   ],
   "source": [
    "sentiments = sentiment_analysis([\"I have two dogs.\", \"I do not have dogs.\"])\n",
    "print(sentiments)"
   ]
  },
  {
   "cell_type": "markdown",
   "metadata": {
    "deletable": false,
    "editable": false
   },
   "source": [
    "<br>\n",
    "\n",
    "---\n",
    "###  Question 3a\n",
    "\n",
    "Try it out yourself! The sentences we provided in the previous example have pretty high polarity scores. Let's see how the model behaves with more ambiguous sentences.\n",
    "\n",
    "Write a sentence `less_polar_sentence` that has a polarity score of less than 0.8. This may take some trial and error. Let this be an opportunity to think about whether the model works as you'd expect."
   ]
  },
  {
   "cell_type": "code",
   "execution_count": 30,
   "metadata": {
    "tags": [
     "otter_answer_cell"
    ]
   },
   "outputs": [
    {
     "name": "stdout",
     "output_type": "stream",
     "text": [
      "[{'label': 'NEGATIVE', 'score': 0.6193552613258362}]\n"
     ]
    }
   ],
   "source": [
    "less_polar_sentence = \"'how to write a sentence with less polarity', asked James?\"\n",
    "results = sentiment_analysis(less_polar_sentence)\n",
    "print(results)"
   ]
  },
  {
   "cell_type": "code",
   "execution_count": 31,
   "metadata": {
    "deletable": false,
    "editable": false
   },
   "outputs": [
    {
     "data": {
      "text/html": [
       "<p><strong><pre style='display: inline;'>q3a</pre></strong> passed! 🌟</p>"
      ],
      "text/plain": [
       "q3a results: All test cases passed!"
      ]
     },
     "execution_count": 31,
     "metadata": {},
     "output_type": "execute_result"
    }
   ],
   "source": [
    "grader.check(\"q3a\")"
   ]
  },
  {
   "cell_type": "markdown",
   "metadata": {
    "deletable": false,
    "editable": false
   },
   "source": [
    "<br>\n",
    "\n",
    "---\n",
    "\n",
    "###  Question 3b\n",
    "\n",
    "As a first step, let's obtain the sentiment of the NYT articles that mention these **three** topics: `Zoom`, `New Year`, and `GPT`. \n",
    "\n",
    "**Note:** We will not analyze the sentiment of articles that mention `Wordle`."
   ]
  },
  {
   "cell_type": "markdown",
   "metadata": {
    "deletable": false,
    "editable": false
   },
   "source": [
    "####  Question 3b, Part i\n",
    "\n",
    "Create a `DataFrame` called `news_df_filtered` that contains all articles from `news_df_dates` that mention `Zoom`, `New Year`, or `GPT`, but do not mention `Wordle`. Use the same definitions from Question 2c."
   ]
  },
  {
   "cell_type": "code",
   "execution_count": 32,
   "metadata": {
    "tags": [
     "otter_answer_cell"
    ]
   },
   "outputs": [
    {
     "data": {
      "text/html": [
       "<div>\n",
       "<style scoped>\n",
       "    .dataframe tbody tr th:only-of-type {\n",
       "        vertical-align: middle;\n",
       "    }\n",
       "\n",
       "    .dataframe tbody tr th {\n",
       "        vertical-align: top;\n",
       "    }\n",
       "\n",
       "    .dataframe thead th {\n",
       "        text-align: right;\n",
       "    }\n",
       "</style>\n",
       "<table border=\"1\" class=\"dataframe\">\n",
       "  <thead>\n",
       "    <tr style=\"text-align: right;\">\n",
       "      <th></th>\n",
       "      <th>web_url</th>\n",
       "      <th>pub_date</th>\n",
       "      <th>lead_paragraph</th>\n",
       "      <th>Month</th>\n",
       "      <th>Year</th>\n",
       "      <th>Minute</th>\n",
       "      <th>Quarter</th>\n",
       "      <th>New Year</th>\n",
       "      <th>Zoom</th>\n",
       "      <th>Wordle</th>\n",
       "      <th>GPT Model</th>\n",
       "    </tr>\n",
       "  </thead>\n",
       "  <tbody>\n",
       "    <tr>\n",
       "      <th>0</th>\n",
       "      <td>https://www.nytimes.com/2019/01/01/us/politics/elizabeth-warren-president.html</td>\n",
       "      <td>2019-01-01T05:18:48+0000</td>\n",
       "      <td>Good Tuesday morning and Happy New Year. Here are some of the stories making news in Washington and politics today.</td>\n",
       "      <td>1</td>\n",
       "      <td>2019</td>\n",
       "      <td>18</td>\n",
       "      <td>2019Q1</td>\n",
       "      <td>1</td>\n",
       "      <td>0</td>\n",
       "      <td>0</td>\n",
       "      <td>0</td>\n",
       "    </tr>\n",
       "    <tr>\n",
       "      <th>1</th>\n",
       "      <td>https://www.nytimes.com/2019/01/01/arts/television/whats-on-tv-tuesday-marie-kondo-doctor-who.html</td>\n",
       "      <td>2019-01-01T06:00:04+0000</td>\n",
       "      <td>Ring in the new year with some organization inspiration, courtesy of Marie Kondo, and the first-ever \"Doctor Who\" New Year’s Day special.</td>\n",
       "      <td>1</td>\n",
       "      <td>2019</td>\n",
       "      <td>0</td>\n",
       "      <td>2019Q1</td>\n",
       "      <td>1</td>\n",
       "      <td>0</td>\n",
       "      <td>0</td>\n",
       "      <td>0</td>\n",
       "    </tr>\n",
       "    <tr>\n",
       "      <th>2</th>\n",
       "      <td>https://www.nytimes.com/2019/01/01/travel/three-new-years-resolutions-for-better-travel-in-2019.html</td>\n",
       "      <td>2019-01-01T10:00:06+0000</td>\n",
       "      <td>It’s not uncommon for people to set unrealistic expectations when making New Year’s resolutions, which likely contributes to most of them failing. Over 90 percent of them do, according to research by the University of Scranton.</td>\n",
       "      <td>1</td>\n",
       "      <td>2019</td>\n",
       "      <td>0</td>\n",
       "      <td>2019Q1</td>\n",
       "      <td>1</td>\n",
       "      <td>0</td>\n",
       "      <td>0</td>\n",
       "      <td>0</td>\n",
       "    </tr>\n",
       "    <tr>\n",
       "      <th>3</th>\n",
       "      <td>https://www.nytimes.com/2019/01/01/world/europe/russia-baby-rescue.html</td>\n",
       "      <td>2019-01-01T16:41:24+0000</td>\n",
       "      <td>MOSCOW — Rescue workers pulled a 10-month-old baby boy alive from a partly collapsed apartment building in central Russia on Tuesday, calling him a \"New Year miracle\" after he survived in the rubble for more than 35 hours in freezing temperatures.</td>\n",
       "      <td>1</td>\n",
       "      <td>2019</td>\n",
       "      <td>41</td>\n",
       "      <td>2019Q1</td>\n",
       "      <td>1</td>\n",
       "      <td>0</td>\n",
       "      <td>0</td>\n",
       "      <td>0</td>\n",
       "    </tr>\n",
       "    <tr>\n",
       "      <th>4</th>\n",
       "      <td>https://www.nytimes.com/2019/01/01/world/europe/germany-foreigners-attack.html</td>\n",
       "      <td>2019-01-01T17:57:51+0000</td>\n",
       "      <td>BERLIN — Targeting foreigners, a man repeatedly drove his car at pedestrians celebrating New Year’s Eve in western Germany, injuring four people before being arrested, the police and prosecutors said Tuesday.</td>\n",
       "      <td>1</td>\n",
       "      <td>2019</td>\n",
       "      <td>57</td>\n",
       "      <td>2019Q1</td>\n",
       "      <td>1</td>\n",
       "      <td>0</td>\n",
       "      <td>0</td>\n",
       "      <td>0</td>\n",
       "    </tr>\n",
       "    <tr>\n",
       "      <th>...</th>\n",
       "      <td>...</td>\n",
       "      <td>...</td>\n",
       "      <td>...</td>\n",
       "      <td>...</td>\n",
       "      <td>...</td>\n",
       "      <td>...</td>\n",
       "      <td>...</td>\n",
       "      <td>...</td>\n",
       "      <td>...</td>\n",
       "      <td>...</td>\n",
       "      <td>...</td>\n",
       "    </tr>\n",
       "    <tr>\n",
       "      <th>1879</th>\n",
       "      <td>https://www.nytimes.com/2024/12/30/us/northern-lights-united-states-new-years-eve.html</td>\n",
       "      <td>2024-12-31T01:41:12+0000</td>\n",
       "      <td>Fireworks won’t be the only thing lighting up the sky during New Year celebrations.</td>\n",
       "      <td>12</td>\n",
       "      <td>2024</td>\n",
       "      <td>41</td>\n",
       "      <td>2024Q4</td>\n",
       "      <td>1</td>\n",
       "      <td>0</td>\n",
       "      <td>0</td>\n",
       "      <td>0</td>\n",
       "    </tr>\n",
       "    <tr>\n",
       "      <th>1881</th>\n",
       "      <td>https://www.nytimes.com/2024/12/31/world/europe/new-years-eve-edinburgh-hogmanay-weather-canceled.html</td>\n",
       "      <td>2024-12-31T11:14:16+0000</td>\n",
       "      <td>The famed Hogmanay street party on New Year’s Eve in Edinburgh, the Scottish capital, has been canceled because of forecasts of rain, strong winds and snow.</td>\n",
       "      <td>12</td>\n",
       "      <td>2024</td>\n",
       "      <td>14</td>\n",
       "      <td>2024Q4</td>\n",
       "      <td>1</td>\n",
       "      <td>0</td>\n",
       "      <td>0</td>\n",
       "      <td>0</td>\n",
       "    </tr>\n",
       "    <tr>\n",
       "      <th>1882</th>\n",
       "      <td>https://www.nytimes.com/2024/12/31/us/puerto-rico-power-blackout.html</td>\n",
       "      <td>2024-12-31T14:16:12+0000</td>\n",
       "      <td>A sweeping blackout hit Puerto Rico early Tuesday morning, plunging nearly all of the island into darkness on New Year’s Eve.</td>\n",
       "      <td>12</td>\n",
       "      <td>2024</td>\n",
       "      <td>16</td>\n",
       "      <td>2024Q4</td>\n",
       "      <td>1</td>\n",
       "      <td>0</td>\n",
       "      <td>0</td>\n",
       "      <td>0</td>\n",
       "    </tr>\n",
       "    <tr>\n",
       "      <th>1883</th>\n",
       "      <td>https://www.nytimes.com/2024/12/31/world/new-years-eve-photos.html</td>\n",
       "      <td>2024-12-31T15:18:44+0000</td>\n",
       "      <td>In plazas and parks and bars and homes across the globe, people gathered to commemorate the end of 2024 and welcome the New Year. Bold swimmers plunged into a frigid lake in Switzerland, joggers in Poland took one last whimsical run of the year and fireworks crackled in citie...</td>\n",
       "      <td>12</td>\n",
       "      <td>2024</td>\n",
       "      <td>18</td>\n",
       "      <td>2024Q4</td>\n",
       "      <td>1</td>\n",
       "      <td>0</td>\n",
       "      <td>0</td>\n",
       "      <td>0</td>\n",
       "    </tr>\n",
       "    <tr>\n",
       "      <th>1884</th>\n",
       "      <td>https://www.nytimes.com/2024/12/31/nyregion/restaurants-new-years-eve-times-square.html</td>\n",
       "      <td>2024-12-31T16:07:45+0000</td>\n",
       "      <td>For many New Yorkers, Times Square on New Year’s Eve brings to mind one word: Nope.</td>\n",
       "      <td>12</td>\n",
       "      <td>2024</td>\n",
       "      <td>7</td>\n",
       "      <td>2024Q4</td>\n",
       "      <td>1</td>\n",
       "      <td>0</td>\n",
       "      <td>0</td>\n",
       "      <td>0</td>\n",
       "    </tr>\n",
       "  </tbody>\n",
       "</table>\n",
       "<p>1135 rows × 11 columns</p>\n",
       "</div>"
      ],
      "text/plain": [
       "                                                                                                     web_url  \\\n",
       "0                             https://www.nytimes.com/2019/01/01/us/politics/elizabeth-warren-president.html   \n",
       "1         https://www.nytimes.com/2019/01/01/arts/television/whats-on-tv-tuesday-marie-kondo-doctor-who.html   \n",
       "2       https://www.nytimes.com/2019/01/01/travel/three-new-years-resolutions-for-better-travel-in-2019.html   \n",
       "3                                    https://www.nytimes.com/2019/01/01/world/europe/russia-baby-rescue.html   \n",
       "4                             https://www.nytimes.com/2019/01/01/world/europe/germany-foreigners-attack.html   \n",
       "...                                                                                                      ...   \n",
       "1879                  https://www.nytimes.com/2024/12/30/us/northern-lights-united-states-new-years-eve.html   \n",
       "1881  https://www.nytimes.com/2024/12/31/world/europe/new-years-eve-edinburgh-hogmanay-weather-canceled.html   \n",
       "1882                                   https://www.nytimes.com/2024/12/31/us/puerto-rico-power-blackout.html   \n",
       "1883                                      https://www.nytimes.com/2024/12/31/world/new-years-eve-photos.html   \n",
       "1884                 https://www.nytimes.com/2024/12/31/nyregion/restaurants-new-years-eve-times-square.html   \n",
       "\n",
       "                      pub_date  \\\n",
       "0     2019-01-01T05:18:48+0000   \n",
       "1     2019-01-01T06:00:04+0000   \n",
       "2     2019-01-01T10:00:06+0000   \n",
       "3     2019-01-01T16:41:24+0000   \n",
       "4     2019-01-01T17:57:51+0000   \n",
       "...                        ...   \n",
       "1879  2024-12-31T01:41:12+0000   \n",
       "1881  2024-12-31T11:14:16+0000   \n",
       "1882  2024-12-31T14:16:12+0000   \n",
       "1883  2024-12-31T15:18:44+0000   \n",
       "1884  2024-12-31T16:07:45+0000   \n",
       "\n",
       "                                                                                                                                                                                                                                                                               lead_paragraph  \\\n",
       "0                                                                                                                                                                         Good Tuesday morning and Happy New Year. Here are some of the stories making news in Washington and politics today.   \n",
       "1                                                                                                                                                   Ring in the new year with some organization inspiration, courtesy of Marie Kondo, and the first-ever \"Doctor Who\" New Year’s Day special.   \n",
       "2                                                         It’s not uncommon for people to set unrealistic expectations when making New Year’s resolutions, which likely contributes to most of them failing. Over 90 percent of them do, according to research by the University of Scranton.   \n",
       "3                                     MOSCOW — Rescue workers pulled a 10-month-old baby boy alive from a partly collapsed apartment building in central Russia on Tuesday, calling him a \"New Year miracle\" after he survived in the rubble for more than 35 hours in freezing temperatures.   \n",
       "4                                                                            BERLIN — Targeting foreigners, a man repeatedly drove his car at pedestrians celebrating New Year’s Eve in western Germany, injuring four people before being arrested, the police and prosecutors said Tuesday.   \n",
       "...                                                                                                                                                                                                                                                                                       ...   \n",
       "1879                                                                                                                                                                                                      Fireworks won’t be the only thing lighting up the sky during New Year celebrations.   \n",
       "1881                                                                                                                             The famed Hogmanay street party on New Year’s Eve in Edinburgh, the Scottish capital, has been canceled because of forecasts of rain, strong winds and snow.   \n",
       "1882                                                                                                                                                            A sweeping blackout hit Puerto Rico early Tuesday morning, plunging nearly all of the island into darkness on New Year’s Eve.   \n",
       "1883  In plazas and parks and bars and homes across the globe, people gathered to commemorate the end of 2024 and welcome the New Year. Bold swimmers plunged into a frigid lake in Switzerland, joggers in Poland took one last whimsical run of the year and fireworks crackled in citie...   \n",
       "1884                                                                                                                                                                                                      For many New Yorkers, Times Square on New Year’s Eve brings to mind one word: Nope.   \n",
       "\n",
       "      Month  Year  Minute Quarter  New Year  Zoom  Wordle  GPT Model  \n",
       "0         1  2019      18  2019Q1         1     0       0          0  \n",
       "1         1  2019       0  2019Q1         1     0       0          0  \n",
       "2         1  2019       0  2019Q1         1     0       0          0  \n",
       "3         1  2019      41  2019Q1         1     0       0          0  \n",
       "4         1  2019      57  2019Q1         1     0       0          0  \n",
       "...     ...   ...     ...     ...       ...   ...     ...        ...  \n",
       "1879     12  2024      41  2024Q4         1     0       0          0  \n",
       "1881     12  2024      14  2024Q4         1     0       0          0  \n",
       "1882     12  2024      16  2024Q4         1     0       0          0  \n",
       "1883     12  2024      18  2024Q4         1     0       0          0  \n",
       "1884     12  2024       7  2024Q4         1     0       0          0  \n",
       "\n",
       "[1135 rows x 11 columns]"
      ]
     },
     "execution_count": 32,
     "metadata": {},
     "output_type": "execute_result"
    }
   ],
   "source": [
    "news_df_filtered = news_df_dates[\n",
    "    ((news_df_dates['Zoom'] > 0) | (news_df_dates['New Year'] > 0) | (news_df_dates['GPT Model'] > 0)) & \n",
    "    (news_df_dates['Wordle'] == 0)\n",
    "]\n",
    "\n",
    "#| (news_df_dates['New Year'] > 0) | (news_df_dates['GPT Model'] > 0)]\n",
    "\n",
    "\n",
    "#[(news_df_dates['New Year'] > 0) & (news_df_dates['Zoom'] > 0)]\n",
    "\n",
    "news_df_filtered"
   ]
  },
  {
   "cell_type": "code",
   "execution_count": 33,
   "metadata": {
    "deletable": false,
    "editable": false
   },
   "outputs": [
    {
     "data": {
      "text/html": [
       "<p><strong><pre style='display: inline;'>q3bi</pre></strong> passed! 🌈</p>"
      ],
      "text/plain": [
       "q3bi results: All test cases passed!"
      ]
     },
     "execution_count": 33,
     "metadata": {},
     "output_type": "execute_result"
    }
   ],
   "source": [
    "grader.check(\"q3bi\")"
   ]
  },
  {
   "cell_type": "markdown",
   "metadata": {
    "deletable": false,
    "editable": false
   },
   "source": [
    "####  Question 3b, Part ii\n",
    "\n",
    "Having all 1000+ students in Data 100 run the `DistilBERT` model for all articles is too computationally intensive for DataHub. So, we have done this part for you and saved the article sentiment scores in  `nyt_sentiments.csv`:\n",
    "\n",
    "1. Load the file `data/nyt_sentiments.csv` as a `DataFrame` called `sentiment`. \n",
    "2. Set the index of `sentiment` as the `web_url` of each article, which uniquely defines each article.\n",
    "\n",
    "Note that the model outputs both a label and a score. After importing the data, we recommend taking a look at its structure before attempting the next part.\n",
    "\n",
    "For each article, `sentiment` provides an outputted `label` and 0 to 1 sentiment `score`. Scores closer to 1 have a stronger sentiment, while scores closer to 0 are more neutral. We can more efficiently communicate the information in these two columns with a single new column. \n",
    "\n",
    "3. Add a new column called `article_sentiment` to `sentiment` that provides the existing score if the label is \"POSITIVE\", and negates the existing score if the label is \"NEGATIVE\". For example, a score of `0.6` with a label `POSITIVE` would have the value `0.6` in `article_sentiment`, while a score of `0.6` with a label `NEGATIVE` would have the value `-0.6` in `article_sentiment`.\n",
    "\n",
    "4. Merge `news_df` with `sentiment` using the `web_url` column, making sure that `news_df` is the left `DataFrame` while `sentiment` is the right `DataFrame`. The merged `DataFrame` should be called `news_df_sentiment`.\n",
    "\n",
    "5. Finally, drop the original `label` and `score` columns."
   ]
  },
  {
   "cell_type": "code",
   "execution_count": 38,
   "metadata": {
    "tags": [
     "otter_answer_cell"
    ]
   },
   "outputs": [
    {
     "data": {
      "text/html": [
       "<div>\n",
       "<style scoped>\n",
       "    .dataframe tbody tr th:only-of-type {\n",
       "        vertical-align: middle;\n",
       "    }\n",
       "\n",
       "    .dataframe tbody tr th {\n",
       "        vertical-align: top;\n",
       "    }\n",
       "\n",
       "    .dataframe thead th {\n",
       "        text-align: right;\n",
       "    }\n",
       "</style>\n",
       "<table border=\"1\" class=\"dataframe\">\n",
       "  <thead>\n",
       "    <tr style=\"text-align: right;\">\n",
       "      <th></th>\n",
       "      <th>web_url</th>\n",
       "      <th>pub_date</th>\n",
       "      <th>lead_paragraph</th>\n",
       "      <th>Month</th>\n",
       "      <th>Year</th>\n",
       "      <th>Minute</th>\n",
       "      <th>Quarter</th>\n",
       "      <th>New Year</th>\n",
       "      <th>Zoom</th>\n",
       "      <th>Wordle</th>\n",
       "      <th>GPT Model</th>\n",
       "      <th>article_sentiment</th>\n",
       "    </tr>\n",
       "  </thead>\n",
       "  <tbody>\n",
       "    <tr>\n",
       "      <th>85</th>\n",
       "      <td>https://www.nytimes.com/2020/01/01/well/move/exercise-physical-activity-workout-time.html</td>\n",
       "      <td>2020-01-01T10:00:13+0000</td>\n",
       "      <td>If, like many of us, your New Year’s resolution is to find more time to exercise, you may be in luck. According to a recent study of how Americans typically spend their waking hours, almost all of us have far more leisure time available than we think we do.</td>\n",
       "      <td>1</td>\n",
       "      <td>2020</td>\n",
       "      <td>0</td>\n",
       "      <td>2020Q1</td>\n",
       "      <td>1</td>\n",
       "      <td>0</td>\n",
       "      <td>0</td>\n",
       "      <td>0</td>\n",
       "      <td>0.986820</td>\n",
       "    </tr>\n",
       "    <tr>\n",
       "      <th>86</th>\n",
       "      <td>https://www.nytimes.com/2020/01/01/world/europe/pope-francis-slap-video.html</td>\n",
       "      <td>2020-01-01T14:42:43+0000</td>\n",
       "      <td>ROME — Pope Francis apologized on Wednesday for the flash of anger — or self-protection — that he exhibited while greeting the faithful around the Vatican’s giant Nativity scene after a New Year’s Eve liturgy the evening before.</td>\n",
       "      <td>1</td>\n",
       "      <td>2020</td>\n",
       "      <td>42</td>\n",
       "      <td>2020Q1</td>\n",
       "      <td>1</td>\n",
       "      <td>0</td>\n",
       "      <td>0</td>\n",
       "      <td>0</td>\n",
       "      <td>-0.992706</td>\n",
       "    </tr>\n",
       "    <tr>\n",
       "      <th>87</th>\n",
       "      <td>https://www.nytimes.com/2020/01/01/opinion/north-korea-nuclear-test.html</td>\n",
       "      <td>2020-01-01T16:00:09+0000</td>\n",
       "      <td>Is anyone surprised? On the last day of 2019, after months of threatening the United States to ease its nuclear standoff with \"a bold decision\" by year’s end — or else — the leader of North Korea darkly announced that the country would unveil a new strategic weapon \"in the ne...</td>\n",
       "      <td>1</td>\n",
       "      <td>2020</td>\n",
       "      <td>0</td>\n",
       "      <td>2020Q1</td>\n",
       "      <td>1</td>\n",
       "      <td>0</td>\n",
       "      <td>0</td>\n",
       "      <td>0</td>\n",
       "      <td>-0.997801</td>\n",
       "    </tr>\n",
       "    <tr>\n",
       "      <th>88</th>\n",
       "      <td>https://www.nytimes.com/2020/01/01/world/europe/zoo-fire-krefeld-germany.html</td>\n",
       "      <td>2020-01-01T16:40:31+0000</td>\n",
       "      <td>Three women who flew paper sky lanterns to celebrate the New Year are under investigation after a zoo fire in Krefeld, Germany, killed dozens of animals and burned down a primate enclosure, the police said Thursday.</td>\n",
       "      <td>1</td>\n",
       "      <td>2020</td>\n",
       "      <td>40</td>\n",
       "      <td>2020Q1</td>\n",
       "      <td>1</td>\n",
       "      <td>0</td>\n",
       "      <td>0</td>\n",
       "      <td>0</td>\n",
       "      <td>-0.995039</td>\n",
       "    </tr>\n",
       "    <tr>\n",
       "      <th>89</th>\n",
       "      <td>https://www.nytimes.com/2020/01/01/parenting/money-rage-and-love.html</td>\n",
       "      <td>2020-01-01T17:20:06+0000</td>\n",
       "      <td>Happy New Year! On this first day of 2020, I’m reflecting on the parenting stories that moved me from the past year. What I love about covering this beat is that how we raise children touches on every topic imaginable: Money, privilege, politics, race, business and technology...</td>\n",
       "      <td>1</td>\n",
       "      <td>2020</td>\n",
       "      <td>20</td>\n",
       "      <td>2020Q1</td>\n",
       "      <td>1</td>\n",
       "      <td>0</td>\n",
       "      <td>0</td>\n",
       "      <td>0</td>\n",
       "      <td>0.999756</td>\n",
       "    </tr>\n",
       "    <tr>\n",
       "      <th>...</th>\n",
       "      <td>...</td>\n",
       "      <td>...</td>\n",
       "      <td>...</td>\n",
       "      <td>...</td>\n",
       "      <td>...</td>\n",
       "      <td>...</td>\n",
       "      <td>...</td>\n",
       "      <td>...</td>\n",
       "      <td>...</td>\n",
       "      <td>...</td>\n",
       "      <td>...</td>\n",
       "      <td>...</td>\n",
       "    </tr>\n",
       "    <tr>\n",
       "      <th>1879</th>\n",
       "      <td>https://www.nytimes.com/2024/12/30/us/northern-lights-united-states-new-years-eve.html</td>\n",
       "      <td>2024-12-31T01:41:12+0000</td>\n",
       "      <td>Fireworks won’t be the only thing lighting up the sky during New Year celebrations.</td>\n",
       "      <td>12</td>\n",
       "      <td>2024</td>\n",
       "      <td>41</td>\n",
       "      <td>2024Q4</td>\n",
       "      <td>1</td>\n",
       "      <td>0</td>\n",
       "      <td>0</td>\n",
       "      <td>0</td>\n",
       "      <td>-0.998594</td>\n",
       "    </tr>\n",
       "    <tr>\n",
       "      <th>1881</th>\n",
       "      <td>https://www.nytimes.com/2024/12/31/world/europe/new-years-eve-edinburgh-hogmanay-weather-canceled.html</td>\n",
       "      <td>2024-12-31T11:14:16+0000</td>\n",
       "      <td>The famed Hogmanay street party on New Year’s Eve in Edinburgh, the Scottish capital, has been canceled because of forecasts of rain, strong winds and snow.</td>\n",
       "      <td>12</td>\n",
       "      <td>2024</td>\n",
       "      <td>14</td>\n",
       "      <td>2024Q4</td>\n",
       "      <td>1</td>\n",
       "      <td>0</td>\n",
       "      <td>0</td>\n",
       "      <td>0</td>\n",
       "      <td>-0.997233</td>\n",
       "    </tr>\n",
       "    <tr>\n",
       "      <th>1882</th>\n",
       "      <td>https://www.nytimes.com/2024/12/31/us/puerto-rico-power-blackout.html</td>\n",
       "      <td>2024-12-31T14:16:12+0000</td>\n",
       "      <td>A sweeping blackout hit Puerto Rico early Tuesday morning, plunging nearly all of the island into darkness on New Year’s Eve.</td>\n",
       "      <td>12</td>\n",
       "      <td>2024</td>\n",
       "      <td>16</td>\n",
       "      <td>2024Q4</td>\n",
       "      <td>1</td>\n",
       "      <td>0</td>\n",
       "      <td>0</td>\n",
       "      <td>0</td>\n",
       "      <td>0.698910</td>\n",
       "    </tr>\n",
       "    <tr>\n",
       "      <th>1883</th>\n",
       "      <td>https://www.nytimes.com/2024/12/31/world/new-years-eve-photos.html</td>\n",
       "      <td>2024-12-31T15:18:44+0000</td>\n",
       "      <td>In plazas and parks and bars and homes across the globe, people gathered to commemorate the end of 2024 and welcome the New Year. Bold swimmers plunged into a frigid lake in Switzerland, joggers in Poland took one last whimsical run of the year and fireworks crackled in citie...</td>\n",
       "      <td>12</td>\n",
       "      <td>2024</td>\n",
       "      <td>18</td>\n",
       "      <td>2024Q4</td>\n",
       "      <td>1</td>\n",
       "      <td>0</td>\n",
       "      <td>0</td>\n",
       "      <td>0</td>\n",
       "      <td>0.999645</td>\n",
       "    </tr>\n",
       "    <tr>\n",
       "      <th>1884</th>\n",
       "      <td>https://www.nytimes.com/2024/12/31/nyregion/restaurants-new-years-eve-times-square.html</td>\n",
       "      <td>2024-12-31T16:07:45+0000</td>\n",
       "      <td>For many New Yorkers, Times Square on New Year’s Eve brings to mind one word: Nope.</td>\n",
       "      <td>12</td>\n",
       "      <td>2024</td>\n",
       "      <td>7</td>\n",
       "      <td>2024Q4</td>\n",
       "      <td>1</td>\n",
       "      <td>0</td>\n",
       "      <td>0</td>\n",
       "      <td>0</td>\n",
       "      <td>-0.996577</td>\n",
       "    </tr>\n",
       "  </tbody>\n",
       "</table>\n",
       "<p>1054 rows × 12 columns</p>\n",
       "</div>"
      ],
      "text/plain": [
       "                                                                                                     web_url  \\\n",
       "85                 https://www.nytimes.com/2020/01/01/well/move/exercise-physical-activity-workout-time.html   \n",
       "86                              https://www.nytimes.com/2020/01/01/world/europe/pope-francis-slap-video.html   \n",
       "87                                  https://www.nytimes.com/2020/01/01/opinion/north-korea-nuclear-test.html   \n",
       "88                             https://www.nytimes.com/2020/01/01/world/europe/zoo-fire-krefeld-germany.html   \n",
       "89                                     https://www.nytimes.com/2020/01/01/parenting/money-rage-and-love.html   \n",
       "...                                                                                                      ...   \n",
       "1879                  https://www.nytimes.com/2024/12/30/us/northern-lights-united-states-new-years-eve.html   \n",
       "1881  https://www.nytimes.com/2024/12/31/world/europe/new-years-eve-edinburgh-hogmanay-weather-canceled.html   \n",
       "1882                                   https://www.nytimes.com/2024/12/31/us/puerto-rico-power-blackout.html   \n",
       "1883                                      https://www.nytimes.com/2024/12/31/world/new-years-eve-photos.html   \n",
       "1884                 https://www.nytimes.com/2024/12/31/nyregion/restaurants-new-years-eve-times-square.html   \n",
       "\n",
       "                      pub_date  \\\n",
       "85    2020-01-01T10:00:13+0000   \n",
       "86    2020-01-01T14:42:43+0000   \n",
       "87    2020-01-01T16:00:09+0000   \n",
       "88    2020-01-01T16:40:31+0000   \n",
       "89    2020-01-01T17:20:06+0000   \n",
       "...                        ...   \n",
       "1879  2024-12-31T01:41:12+0000   \n",
       "1881  2024-12-31T11:14:16+0000   \n",
       "1882  2024-12-31T14:16:12+0000   \n",
       "1883  2024-12-31T15:18:44+0000   \n",
       "1884  2024-12-31T16:07:45+0000   \n",
       "\n",
       "                                                                                                                                                                                                                                                                               lead_paragraph  \\\n",
       "85                         If, like many of us, your New Year’s resolution is to find more time to exercise, you may be in luck. According to a recent study of how Americans typically spend their waking hours, almost all of us have far more leisure time available than we think we do.    \n",
       "86                                                       ROME — Pope Francis apologized on Wednesday for the flash of anger — or self-protection — that he exhibited while greeting the faithful around the Vatican’s giant Nativity scene after a New Year’s Eve liturgy the evening before.   \n",
       "87    Is anyone surprised? On the last day of 2019, after months of threatening the United States to ease its nuclear standoff with \"a bold decision\" by year’s end — or else — the leader of North Korea darkly announced that the country would unveil a new strategic weapon \"in the ne...   \n",
       "88                                                                    Three women who flew paper sky lanterns to celebrate the New Year are under investigation after a zoo fire in Krefeld, Germany, killed dozens of animals and burned down a primate enclosure, the police said Thursday.   \n",
       "89    Happy New Year! On this first day of 2020, I’m reflecting on the parenting stories that moved me from the past year. What I love about covering this beat is that how we raise children touches on every topic imaginable: Money, privilege, politics, race, business and technology...   \n",
       "...                                                                                                                                                                                                                                                                                       ...   \n",
       "1879                                                                                                                                                                                                      Fireworks won’t be the only thing lighting up the sky during New Year celebrations.   \n",
       "1881                                                                                                                             The famed Hogmanay street party on New Year’s Eve in Edinburgh, the Scottish capital, has been canceled because of forecasts of rain, strong winds and snow.   \n",
       "1882                                                                                                                                                            A sweeping blackout hit Puerto Rico early Tuesday morning, plunging nearly all of the island into darkness on New Year’s Eve.   \n",
       "1883  In plazas and parks and bars and homes across the globe, people gathered to commemorate the end of 2024 and welcome the New Year. Bold swimmers plunged into a frigid lake in Switzerland, joggers in Poland took one last whimsical run of the year and fireworks crackled in citie...   \n",
       "1884                                                                                                                                                                                                      For many New Yorkers, Times Square on New Year’s Eve brings to mind one word: Nope.   \n",
       "\n",
       "      Month  Year  Minute Quarter  New Year  Zoom  Wordle  GPT Model  \\\n",
       "85        1  2020       0  2020Q1         1     0       0          0   \n",
       "86        1  2020      42  2020Q1         1     0       0          0   \n",
       "87        1  2020       0  2020Q1         1     0       0          0   \n",
       "88        1  2020      40  2020Q1         1     0       0          0   \n",
       "89        1  2020      20  2020Q1         1     0       0          0   \n",
       "...     ...   ...     ...     ...       ...   ...     ...        ...   \n",
       "1879     12  2024      41  2024Q4         1     0       0          0   \n",
       "1881     12  2024      14  2024Q4         1     0       0          0   \n",
       "1882     12  2024      16  2024Q4         1     0       0          0   \n",
       "1883     12  2024      18  2024Q4         1     0       0          0   \n",
       "1884     12  2024       7  2024Q4         1     0       0          0   \n",
       "\n",
       "      article_sentiment  \n",
       "85             0.986820  \n",
       "86            -0.992706  \n",
       "87            -0.997801  \n",
       "88            -0.995039  \n",
       "89             0.999756  \n",
       "...                 ...  \n",
       "1879          -0.998594  \n",
       "1881          -0.997233  \n",
       "1882           0.698910  \n",
       "1883           0.999645  \n",
       "1884          -0.996577  \n",
       "\n",
       "[1054 rows x 12 columns]"
      ]
     },
     "execution_count": 38,
     "metadata": {},
     "output_type": "execute_result"
    }
   ],
   "source": [
    "sentiment = pd.read_csv('data/nyt_sentiments.csv')\n",
    "sentiment = sentiment.set_index('web_url')\n",
    "sentiment['article_sentiment'] = sentiment.apply(lambda row: row['score'] if row['label'] == 'POSITIVE' else -row['score'], axis=1)\n",
    "news_df_sentiment = news_df_filtered.merge(right = sentiment, left_on = 'web_url', right_index = True)\n",
    "news_df_sentiment = news_df_sentiment.drop(['label', 'score'], axis=1)\n",
    "\n",
    "news_df_sentiment"
   ]
  },
  {
   "cell_type": "code",
   "execution_count": 39,
   "metadata": {
    "deletable": false,
    "editable": false
   },
   "outputs": [
    {
     "data": {
      "text/html": [
       "<p><strong><pre style='display: inline;'>q3bii</pre></strong> passed! 🌟</p>"
      ],
      "text/plain": [
       "q3bii results: All test cases passed!"
      ]
     },
     "execution_count": 39,
     "metadata": {},
     "output_type": "execute_result"
    }
   ],
   "source": [
    "grader.check(\"q3bii\")"
   ]
  },
  {
   "cell_type": "markdown",
   "metadata": {
    "deletable": false,
    "editable": false
   },
   "source": [
    "<!-- BEGIN QUESTION -->\n",
    "\n",
    "<br>\n",
    "\n",
    "---\n",
    "###  Question 3c\n",
    "\n",
    "Let's now visualize the distribution of article sentiment."
   ]
  },
  {
   "cell_type": "markdown",
   "metadata": {
    "deletable": false,
    "editable": false
   },
   "source": [
    "Using `seaborn`, we created a histogram to visualize the distribution of `article_sentiment`. Run the cell below to display the plot."
   ]
  },
  {
   "cell_type": "code",
   "execution_count": 40,
   "metadata": {
    "deletable": false,
    "editable": false
   },
   "outputs": [
    {
     "data": {
      "image/png": "[encoded data removed]",
      "text/plain": [
       "<Figure size 640x480 with 1 Axes>"
      ]
     },
     "metadata": {},
     "output_type": "display_data"
    }
   ],
   "source": [
    "sns.histplot(data=news_df_sentiment, x='article_sentiment')\n",
    "plt.xlabel('Sentiment of Leading Paragraphs')\n",
    "plt.title('Histogram of Leading Paragraph Sentiment')\n",
    "plt.plot();"
   ]
  },
  {
   "cell_type": "markdown",
   "metadata": {
    "deletable": false,
    "editable": false
   },
   "source": [
    "Are you at all surprised by the distribution of sentiment in the graph above? Describe what you notice about the graph and how it relates to what you learned in part **3a**."
   ]
  },
  {
   "cell_type": "markdown",
   "metadata": {
    "tags": [
     "otter_answer_cell"
    ]
   },
   "source": [
    "_I'm not especially surprised by the results of the graph above, where there is a bimodal (at the extremities) distribution with almost no values in the midrange... the mean would be very misleading here! When I was trying to pass 3a, I had a really hard time writing anything that was not very close to either -1.0 or 1.0. I'm sure this has something to do with the algorithm, but also shows how human writing tends to be directional and perhaps the 'political polarization' that is so talked about is a byproduct of this._"
   ]
  },
  {
   "cell_type": "markdown",
   "metadata": {
    "deletable": false,
    "editable": false
   },
   "source": [
    "<!-- END QUESTION -->\n",
    "\n",
    "<br>\n",
    "\n",
    "---\n",
    "###  Question 3d\n",
    "\n",
    "Let's audit our data to better understand how well the sentiment analysis model works with our specific dataset. It's good practice to compare our assumptions to model outputs.\n",
    "\n",
    "####  Question 3d, Part i\n",
    "\n",
    "Assign `top_positive` and `top_negative` to `DataFrame`s containing the five articles with the highest `article_sentiment` values and the five lowest `article_sentiment` values, respectively. The `DataFrame`s should have the columns `lead_paragraph` and `article_sentiment`."
   ]
  },
  {
   "cell_type": "code",
   "execution_count": 45,
   "metadata": {
    "tags": [
     "otter_answer_cell"
    ]
   },
   "outputs": [
    {
     "data": {
      "text/html": [
       "<div>\n",
       "<style scoped>\n",
       "    .dataframe tbody tr th:only-of-type {\n",
       "        vertical-align: middle;\n",
       "    }\n",
       "\n",
       "    .dataframe tbody tr th {\n",
       "        vertical-align: top;\n",
       "    }\n",
       "\n",
       "    .dataframe thead th {\n",
       "        text-align: right;\n",
       "    }\n",
       "</style>\n",
       "<table border=\"1\" class=\"dataframe\">\n",
       "  <thead>\n",
       "    <tr style=\"text-align: right;\">\n",
       "      <th></th>\n",
       "      <th>web_url</th>\n",
       "      <th>pub_date</th>\n",
       "      <th>lead_paragraph</th>\n",
       "      <th>Month</th>\n",
       "      <th>Year</th>\n",
       "      <th>Minute</th>\n",
       "      <th>Quarter</th>\n",
       "      <th>New Year</th>\n",
       "      <th>Zoom</th>\n",
       "      <th>Wordle</th>\n",
       "      <th>GPT Model</th>\n",
       "      <th>article_sentiment</th>\n",
       "    </tr>\n",
       "  </thead>\n",
       "  <tbody>\n",
       "    <tr>\n",
       "      <th>1379</th>\n",
       "      <td>https://www.nytimes.com/2024/01/05/podcasts/listen-oprah-winfrey-harvard-resolutions.html</td>\n",
       "      <td>2024-01-05T18:58:49+0000</td>\n",
       "      <td>Happy New Year, audiophiles!</td>\n",
       "      <td>1</td>\n",
       "      <td>2024</td>\n",
       "      <td>58</td>\n",
       "      <td>2024Q1</td>\n",
       "      <td>1</td>\n",
       "      <td>0</td>\n",
       "      <td>0</td>\n",
       "      <td>0</td>\n",
       "      <td>0.999876</td>\n",
       "    </tr>\n",
       "    <tr>\n",
       "      <th>466</th>\n",
       "      <td>https://www.nytimes.com/2021/03/18/arts/dance/twyla-tharp-pbs-documentary.html</td>\n",
       "      <td>2021-03-18T14:00:07+0000</td>\n",
       "      <td>It’s easy to think about Twyla Tharp and immediately picture her body of work. It’s impressive. Tharp has choreographed more than 150 dances for just about every surface and site imaginable: the concert stage, parks, Broadway, film, ice and now Zoom.</td>\n",
       "      <td>3</td>\n",
       "      <td>2021</td>\n",
       "      <td>0</td>\n",
       "      <td>2021Q1</td>\n",
       "      <td>0</td>\n",
       "      <td>1</td>\n",
       "      <td>0</td>\n",
       "      <td>0</td>\n",
       "      <td>0.999872</td>\n",
       "    </tr>\n",
       "    <tr>\n",
       "      <th>592</th>\n",
       "      <td>https://www.nytimes.com/2021/12/21/learning/5-ways-to-celebrate-the-holidays-with-the-new-york-times.html</td>\n",
       "      <td>2021-12-21T10:00:06+0000</td>\n",
       "      <td>Merry Christmas, happy Hanukkah, joyous Kwanzaa and happy New Year.</td>\n",
       "      <td>12</td>\n",
       "      <td>2021</td>\n",
       "      <td>0</td>\n",
       "      <td>2021Q4</td>\n",
       "      <td>1</td>\n",
       "      <td>0</td>\n",
       "      <td>0</td>\n",
       "      <td>0</td>\n",
       "      <td>0.999871</td>\n",
       "    </tr>\n",
       "    <tr>\n",
       "      <th>780</th>\n",
       "      <td>https://www.nytimes.com/2022/12/19/learning/15-prompts-for-talking-and-writing-about-the-holidays-and-the-new-year.html</td>\n",
       "      <td>2022-12-19T12:57:28+0000</td>\n",
       "      <td>Merry Christmas, happy Hanukkah, joyous Kwanzaa and happy New Year.</td>\n",
       "      <td>12</td>\n",
       "      <td>2022</td>\n",
       "      <td>57</td>\n",
       "      <td>2022Q4</td>\n",
       "      <td>1</td>\n",
       "      <td>0</td>\n",
       "      <td>0</td>\n",
       "      <td>0</td>\n",
       "      <td>0.999871</td>\n",
       "    </tr>\n",
       "    <tr>\n",
       "      <th>647</th>\n",
       "      <td>https://www.nytimes.com/2022/01/10/opinion/scams-were-all-experts.html</td>\n",
       "      <td>2022-01-10T20:22:16+0000</td>\n",
       "      <td>Happy New Year!</td>\n",
       "      <td>1</td>\n",
       "      <td>2022</td>\n",
       "      <td>22</td>\n",
       "      <td>2022Q1</td>\n",
       "      <td>1</td>\n",
       "      <td>0</td>\n",
       "      <td>0</td>\n",
       "      <td>0</td>\n",
       "      <td>0.999869</td>\n",
       "    </tr>\n",
       "  </tbody>\n",
       "</table>\n",
       "</div>"
      ],
      "text/plain": [
       "                                                                                                                      web_url  \\\n",
       "1379                                https://www.nytimes.com/2024/01/05/podcasts/listen-oprah-winfrey-harvard-resolutions.html   \n",
       "466                                            https://www.nytimes.com/2021/03/18/arts/dance/twyla-tharp-pbs-documentary.html   \n",
       "592                 https://www.nytimes.com/2021/12/21/learning/5-ways-to-celebrate-the-holidays-with-the-new-york-times.html   \n",
       "780   https://www.nytimes.com/2022/12/19/learning/15-prompts-for-talking-and-writing-about-the-holidays-and-the-new-year.html   \n",
       "647                                                    https://www.nytimes.com/2022/01/10/opinion/scams-were-all-experts.html   \n",
       "\n",
       "                      pub_date  \\\n",
       "1379  2024-01-05T18:58:49+0000   \n",
       "466   2021-03-18T14:00:07+0000   \n",
       "592   2021-12-21T10:00:06+0000   \n",
       "780   2022-12-19T12:57:28+0000   \n",
       "647   2022-01-10T20:22:16+0000   \n",
       "\n",
       "                                                                                                                                                                                                                                                  lead_paragraph  \\\n",
       "1379                                                                                                                                                                                                                                Happy New Year, audiophiles!   \n",
       "466   It’s easy to think about Twyla Tharp and immediately picture her body of work. It’s impressive. Tharp has choreographed more than 150 dances for just about every surface and site imaginable: the concert stage, parks, Broadway, film, ice and now Zoom.   \n",
       "592                                                                                                                                                                                          Merry Christmas, happy Hanukkah, joyous Kwanzaa and happy New Year.   \n",
       "780                                                                                                                                                                                          Merry Christmas, happy Hanukkah, joyous Kwanzaa and happy New Year.   \n",
       "647                                                                                                                                                                                                                                              Happy New Year!   \n",
       "\n",
       "      Month  Year  Minute Quarter  New Year  Zoom  Wordle  GPT Model  \\\n",
       "1379      1  2024      58  2024Q1         1     0       0          0   \n",
       "466       3  2021       0  2021Q1         0     1       0          0   \n",
       "592      12  2021       0  2021Q4         1     0       0          0   \n",
       "780      12  2022      57  2022Q4         1     0       0          0   \n",
       "647       1  2022      22  2022Q1         1     0       0          0   \n",
       "\n",
       "      article_sentiment  \n",
       "1379           0.999876  \n",
       "466            0.999872  \n",
       "592            0.999871  \n",
       "780            0.999871  \n",
       "647            0.999869  "
      ]
     },
     "metadata": {},
     "output_type": "display_data"
    },
    {
     "data": {
      "text/html": [
       "<div>\n",
       "<style scoped>\n",
       "    .dataframe tbody tr th:only-of-type {\n",
       "        vertical-align: middle;\n",
       "    }\n",
       "\n",
       "    .dataframe tbody tr th {\n",
       "        vertical-align: top;\n",
       "    }\n",
       "\n",
       "    .dataframe thead th {\n",
       "        text-align: right;\n",
       "    }\n",
       "</style>\n",
       "<table border=\"1\" class=\"dataframe\">\n",
       "  <thead>\n",
       "    <tr style=\"text-align: right;\">\n",
       "      <th></th>\n",
       "      <th>web_url</th>\n",
       "      <th>pub_date</th>\n",
       "      <th>lead_paragraph</th>\n",
       "      <th>Month</th>\n",
       "      <th>Year</th>\n",
       "      <th>Minute</th>\n",
       "      <th>Quarter</th>\n",
       "      <th>New Year</th>\n",
       "      <th>Zoom</th>\n",
       "      <th>Wordle</th>\n",
       "      <th>GPT Model</th>\n",
       "      <th>article_sentiment</th>\n",
       "    </tr>\n",
       "  </thead>\n",
       "  <tbody>\n",
       "    <tr>\n",
       "      <th>1173</th>\n",
       "      <td>https://www.nytimes.com/2023/09/05/arts/music/amplifier-newsletter-new-songs.html</td>\n",
       "      <td>2023-09-05T18:00:03+0000</td>\n",
       "      <td>The day after Labor Day has got to be one of the worst days in the American calendar year. (Not quite as bad as the first workday after New Year’s, but worth mentioning in the same breath.)</td>\n",
       "      <td>9</td>\n",
       "      <td>2023</td>\n",
       "      <td>0</td>\n",
       "      <td>2023Q3</td>\n",
       "      <td>1</td>\n",
       "      <td>0</td>\n",
       "      <td>0</td>\n",
       "      <td>0</td>\n",
       "      <td>-0.999777</td>\n",
       "    </tr>\n",
       "    <tr>\n",
       "      <th>179</th>\n",
       "      <td>https://www.nytimes.com/2020/05/07/technology/zooooooooooooom.html</td>\n",
       "      <td>2020-05-07T15:41:04+0000</td>\n",
       "      <td>One day this quarantine, who can say which, I encountered the following pieces of information: Zoom, the videoconferencing company, saw its stock hit a new high; Zūm, a ride-sharing venture, cut its work force by a third; and Zume, the robot pizza start-up, failed to raise mo...</td>\n",
       "      <td>5</td>\n",
       "      <td>2020</td>\n",
       "      <td>41</td>\n",
       "      <td>2020Q2</td>\n",
       "      <td>0</td>\n",
       "      <td>1</td>\n",
       "      <td>0</td>\n",
       "      <td>0</td>\n",
       "      <td>-0.999759</td>\n",
       "    </tr>\n",
       "    <tr>\n",
       "      <th>268</th>\n",
       "      <td>https://www.nytimes.com/2020/08/28/business/remote-work-spiritual-consultants.html</td>\n",
       "      <td>2020-08-28T09:00:30+0000</td>\n",
       "      <td>In the beginning there was Covid-19, and the tribe of the white collars rent their garments, for their workdays were a formless void, and all their rituals were gone. New routines came to replace the old, but the routines were scattered, and there was chaos around how best to...</td>\n",
       "      <td>8</td>\n",
       "      <td>2020</td>\n",
       "      <td>0</td>\n",
       "      <td>2020Q3</td>\n",
       "      <td>0</td>\n",
       "      <td>1</td>\n",
       "      <td>0</td>\n",
       "      <td>0</td>\n",
       "      <td>-0.999729</td>\n",
       "    </tr>\n",
       "    <tr>\n",
       "      <th>1525</th>\n",
       "      <td>https://www.nytimes.com/2024/04/15/technology/ai-models-measurement.html</td>\n",
       "      <td>2024-04-15T15:14:09+0000</td>\n",
       "      <td>There’s a problem with leading artificial intelligence tools like ChatGPT, Gemini and Claude: We don’t really know how smart they are.</td>\n",
       "      <td>4</td>\n",
       "      <td>2024</td>\n",
       "      <td>14</td>\n",
       "      <td>2024Q2</td>\n",
       "      <td>0</td>\n",
       "      <td>0</td>\n",
       "      <td>0</td>\n",
       "      <td>1</td>\n",
       "      <td>-0.999702</td>\n",
       "    </tr>\n",
       "    <tr>\n",
       "      <th>277</th>\n",
       "      <td>https://www.nytimes.com/2020/09/04/opinion/sunday/your-dads-not-feeling-well.html</td>\n",
       "      <td>2020-09-04T15:00:14+0000</td>\n",
       "      <td>I was in Brooklyn on a Zoom meeting in mid-March, when I saw my mom’s name come up on my cellphone. \"Your dad’s not feeling well,\" she said.</td>\n",
       "      <td>9</td>\n",
       "      <td>2020</td>\n",
       "      <td>0</td>\n",
       "      <td>2020Q3</td>\n",
       "      <td>0</td>\n",
       "      <td>1</td>\n",
       "      <td>0</td>\n",
       "      <td>0</td>\n",
       "      <td>-0.999698</td>\n",
       "    </tr>\n",
       "  </tbody>\n",
       "</table>\n",
       "</div>"
      ],
      "text/plain": [
       "                                                                                 web_url  \\\n",
       "1173   https://www.nytimes.com/2023/09/05/arts/music/amplifier-newsletter-new-songs.html   \n",
       "179                   https://www.nytimes.com/2020/05/07/technology/zooooooooooooom.html   \n",
       "268   https://www.nytimes.com/2020/08/28/business/remote-work-spiritual-consultants.html   \n",
       "1525            https://www.nytimes.com/2024/04/15/technology/ai-models-measurement.html   \n",
       "277    https://www.nytimes.com/2020/09/04/opinion/sunday/your-dads-not-feeling-well.html   \n",
       "\n",
       "                      pub_date  \\\n",
       "1173  2023-09-05T18:00:03+0000   \n",
       "179   2020-05-07T15:41:04+0000   \n",
       "268   2020-08-28T09:00:30+0000   \n",
       "1525  2024-04-15T15:14:09+0000   \n",
       "277   2020-09-04T15:00:14+0000   \n",
       "\n",
       "                                                                                                                                                                                                                                                                               lead_paragraph  \\\n",
       "1173                                                                                            The day after Labor Day has got to be one of the worst days in the American calendar year. (Not quite as bad as the first workday after New Year’s, but worth mentioning in the same breath.)   \n",
       "179   One day this quarantine, who can say which, I encountered the following pieces of information: Zoom, the videoconferencing company, saw its stock hit a new high; Zūm, a ride-sharing venture, cut its work force by a third; and Zume, the robot pizza start-up, failed to raise mo...   \n",
       "268   In the beginning there was Covid-19, and the tribe of the white collars rent their garments, for their workdays were a formless void, and all their rituals were gone. New routines came to replace the old, but the routines were scattered, and there was chaos around how best to...   \n",
       "1525                                                                                                                                                   There’s a problem with leading artificial intelligence tools like ChatGPT, Gemini and Claude: We don’t really know how smart they are.   \n",
       "277                                                                                                                                              I was in Brooklyn on a Zoom meeting in mid-March, when I saw my mom’s name come up on my cellphone. \"Your dad’s not feeling well,\" she said.   \n",
       "\n",
       "      Month  Year  Minute Quarter  New Year  Zoom  Wordle  GPT Model  \\\n",
       "1173      9  2023       0  2023Q3         1     0       0          0   \n",
       "179       5  2020      41  2020Q2         0     1       0          0   \n",
       "268       8  2020       0  2020Q3         0     1       0          0   \n",
       "1525      4  2024      14  2024Q2         0     0       0          1   \n",
       "277       9  2020       0  2020Q3         0     1       0          0   \n",
       "\n",
       "      article_sentiment  \n",
       "1173          -0.999777  \n",
       "179           -0.999759  \n",
       "268           -0.999729  \n",
       "1525          -0.999702  \n",
       "277           -0.999698  "
      ]
     },
     "metadata": {},
     "output_type": "display_data"
    }
   ],
   "source": [
    "top_positive = news_df_sentiment.sort_values('article_sentiment', ascending=False).head(5)\n",
    "top_negative = news_df_sentiment.sort_values('article_sentiment', ascending=True).head(5)\n",
    "\n",
    "display(top_positive, top_negative)"
   ]
  },
  {
   "cell_type": "code",
   "execution_count": 46,
   "metadata": {
    "deletable": false,
    "editable": false
   },
   "outputs": [
    {
     "data": {
      "text/html": [
       "<p><strong><pre style='display: inline;'>q3di</pre></strong> passed! 🎉</p>"
      ],
      "text/plain": [
       "q3di results: All test cases passed!"
      ]
     },
     "execution_count": 46,
     "metadata": {},
     "output_type": "execute_result"
    }
   ],
   "source": [
    "grader.check(\"q3di\")"
   ]
  },
  {
   "cell_type": "markdown",
   "metadata": {
    "deletable": false,
    "editable": false
   },
   "source": [
    "<!-- BEGIN QUESTION -->\n",
    "\n",
    "####  Question 3d, Part ii\n",
    "\n",
    "Do you agree with the current sentiment-based ordering of news articles, or would you rearrange the ordering? Do you feel that the DistilBERT model is a good model for our task of analyzing sentiment in news articles?"
   ]
  },
  {
   "cell_type": "markdown",
   "metadata": {
    "tags": [
     "otter_answer_cell"
    ]
   },
   "source": [
    "_Without reading through all the articles, it is difficult to tell if the sentiment ordering had been done correctly. That being said, reading the first few sentences of the most extremely positive and negative sentiment scores leads me to believe the model does a pretty good job at analyzing sentiment, as the positive articles seem very joyful and optomistic while the negative articles appear to be quite sorrowful and fear-inducing._"
   ]
  },
  {
   "cell_type": "markdown",
   "metadata": {
    "deletable": false,
    "editable": false
   },
   "source": [
    "<!-- END QUESTION -->\n",
    "\n",
    "<br>\n",
    "\n",
    "---"
   ]
  },
  {
   "cell_type": "markdown",
   "metadata": {},
   "source": [
    "### Continued Visualizing\n",
    "Let's continue to visualize the `news_df_sentiment` data. The cell below adds a new datetime column `date` to `news_df_sentiment`. The datetime format will make visualization easier."
   ]
  },
  {
   "cell_type": "code",
   "execution_count": 47,
   "metadata": {},
   "outputs": [],
   "source": [
    "# Combine the columns into a single date string in 'YYYY-MM-DD' format\n",
    "news_df_sentiment['date_str'] = (\n",
    "    news_df_sentiment['Year'].astype(str)\n",
    "    + '-' + news_df_sentiment['Month'].astype(str)\n",
    "    + '-' + news_df_sentiment['pub_date'].str[8:10]\n",
    ")\n",
    "\n",
    "# Convert the combined string to a datetime object using pd.to_datetime()\n",
    "news_df_sentiment['date'] = pd.to_datetime(news_df_sentiment['date_str'], format='%Y-%m-%d', errors='coerce')"
   ]
  },
  {
   "cell_type": "markdown",
   "metadata": {},
   "source": [
    "Below, we visualize the change in sentiment in the topic `Zoom` over time, using `sns.lineplot` to plot `date` on the x-axis and `article_sentiment` on the y-axis.\n",
    "\n",
    "**Note**: If the following plot is empty, please rerun from all cells starting from Part 3b where `news_df_sentiment` was initialized."
   ]
  },
  {
   "cell_type": "code",
   "execution_count": 48,
   "metadata": {},
   "outputs": [
    {
     "data": {
      "image/png": "[encoded data removed]",
      "text/plain": [
       "<Figure size 1200x500 with 1 Axes>"
      ]
     },
     "metadata": {},
     "output_type": "display_data"
    }
   ],
   "source": [
    "fig, ax = plt.subplots(figsize=(12, 5))\n",
    "sns.lineplot(data=news_df_sentiment[news_df_sentiment[\"Zoom\"] > 0], x='date', y='article_sentiment')\n",
    "plt.xticks(rotation=70);"
   ]
  },
  {
   "cell_type": "markdown",
   "metadata": {},
   "source": [
    "**This plot is not very pretty!** This isn't because of any errors on your part. Instead, we need to use a different visualization method to understand our data."
   ]
  },
  {
   "cell_type": "markdown",
   "metadata": {
    "deletable": false,
    "editable": false
   },
   "source": [
    "<!-- BEGIN QUESTION -->\n",
    "\n",
    "###  Question 3e"
   ]
  },
  {
   "cell_type": "markdown",
   "metadata": {
    "deletable": false,
    "editable": false
   },
   "source": [
    "Let's visualize our data more effectively. We will still use `sns.lineplot`, but instead of plotting every observation, we will first aggregate our data, and then plot the aggregated values.\n",
    "\n",
    "We will also compare sentiment scores across three topics: `New Year`, `Zoom`, and `GPT`.\n",
    "\n",
    "We will use the `DataFrame` `news_df_sentiment` in this question.\n",
    "\n",
    "1. For each topic, generate a `DataFrame` that shows the average article sentiment for each quarter. In each `DataFrame`, be sure to include a column called `Topic` that has the same string value in every row (either `New Year`, `Zoom` or `GPT`).\n",
    "2. Concatenate the `DataFrame`s obtained from step (1) using `pd.concat` ([documentation](https://pandas.pydata.org/docs/reference/api/pandas.concat.html)). Assign this to `all_topic_qtr_avg_sentiments`.\n",
    "3. Finally, we have provided the code to plot each topic's average article sentiment in each quarter using `all_topic_qrt_avg_sentiments`.\n",
    "\n",
    "Your graph should have a similar title, axis labels, markers, and x-axis tick label ordering as the one below.\n",
    "\n",
    "<img src = \"images/sentiment_graph.png\" width = \"800\">"
   ]
  },
  {
   "cell_type": "code",
   "execution_count": 74,
   "metadata": {},
   "outputs": [],
   "source": [
    "# my_df = news_df_sentiment[news_df_sentiment['New Year'] > 0][['Quarter', 'New Year', 'article_sentiment']].groupby('Quarter').agg(np.mean)[['article_sentiment']]\n",
    "# my_df['Topic'] = 'New Year'\n",
    "# my_df"
   ]
  },
  {
   "cell_type": "code",
   "execution_count": 76,
   "metadata": {
    "tags": [
     "otter_answer_cell"
    ]
   },
   "outputs": [
    {
     "data": {
      "image/png": "[encoded data removed]",
      "text/plain": [
       "<Figure size 1500x500 with 1 Axes>"
      ]
     },
     "metadata": {},
     "output_type": "display_data"
    }
   ],
   "source": [
    "fig, ax = plt.subplots(figsize=(15, 5))\n",
    "dfs_per_topic = []\n",
    "\n",
    "for topic in topics:\n",
    "    df_of_current_topic = news_df_sentiment[news_df_sentiment[topic] > 0][['Quarter', topic, 'article_sentiment']].groupby('Quarter').agg(np.mean)[['article_sentiment']]\n",
    "    df_of_current_topic[\"Topic\"] = topic\n",
    "    dfs_per_topic.append(df_of_current_topic)\n",
    "\n",
    "#df_of_current_topic\n",
    "\n",
    "all_topic_qtr_avg_sentiments = pd.concat(dfs_per_topic, axis=0)\n",
    "sns.lineplot(data=all_topic_qtr_avg_sentiments, x=\"Quarter\", y=\"article_sentiment\", hue=\"Topic\")\n",
    "\n",
    "plt.title('Avg. Sentiment per Topic Across Quarters')\n",
    "plt.xlabel('Time')\n",
    "plt.ylabel('Lead Paragraph Sentiment')\n",
    "\n",
    "# If the above are implemented correctly, running this cell should produce the graph shown above.\n",
    "plt.axhline(0, color='black')\n",
    "plt.xticks(rotation=65);"
   ]
  },
  {
   "cell_type": "markdown",
   "metadata": {
    "deletable": false,
    "editable": false
   },
   "source": [
    "<!-- END QUESTION -->\n",
    "\n",
    "<br>\n",
    "\n",
    "---"
   ]
  },
  {
   "cell_type": "markdown",
   "metadata": {},
   "source": [
    "### Takeaways\n",
    "\n",
    "In this homework, we used a language model to evaluate the sentiment of news articles and quantify text data (qualitative data) so that we could perform data analysis on a large set of journalism data. Though we used the [HuggingFace DistilBERT](https://huggingface.co/distilbert/distilbert-base-uncased-finetuned-sst-2-english) model, there are thousands of language models available for use, and with rapid innovations in the NLP research space, there are new models frequently being created. In fact, we were using a different model for this homework one year ago, which reflects how quickly the NLP field progresses. \n",
    "\n",
    "Different models evaluate sentiment differently. You may have noticed that the DistilBERT model struggles with evaluating neutral sentences and often gives sentences a high polarity score. When evaluating which models to use in your projects, it's useful to test them on small inputs of data to see how they perform, like we did by testing out various sentences! Different models may perform differently (often due to how the model was trained and created), so it's important to understand these differences when deciding what model to use for your data.\n"
   ]
  },
  {
   "cell_type": "markdown",
   "metadata": {},
   "source": [
    "<hr style=\"border: 5px solid #003262;\" />\n",
    "<hr style=\"border: 1px solid #fdb515;\" />\n",
    "\n",
    "## Levi says congratulations! You have finished Homework 3!\n",
    "\n",
    "<img src = \"images/IMG_6497.jpg\" width = \"200\">\n",
    "\n",
    "### Course Content Feedback\n",
    "\n",
    "If you have any feedback about this assignment or about any of our other weekly, weekly assignments, lectures, or discussions, please fill out the [Course Content Feedback Form](https://forms.gle/5SxnFnCPZgCr2koeA). Your input is valuable in helping us improve the quality and relevance of our content to better meet your needs and expectations!\n",
    "\n",
    "### Submission Instructions\n",
    "\n",
    "Below, you will see a cell. Running this cell will automatically generate a zip file with your autograded answers. Once you submit this file to the HW 3 Coding assignment on Gradescope, Gradescope will automatically submit a PDF file with your written answers to the HW 3 Written assignment. If you run into any issues when running this cell, feel free to check this [section](https://ds100.org/debugging-guide/autograder_gradescope/autograder_gradescope.html#why-does-grader.exportrun_teststrue-fail-if-all-previous-tests-passed) in the Data 100 Debugging Guide.\n",
    "\n",
    "**Important**: Please check that your written responses were generated and submitted correctly to the HW 3 Written Assignment.\n",
    "\n",
    "**You are responsible for ensuring your submission follows our requirements and that the PDF for HW 3 written answers was generated/submitted correctly. We will not be granting regrade requests nor extensions to submissions that don't follow instructions.** If you encounter any difficulties with submission, please don't hesitate to reach out to staff prior to the deadline.\n"
   ]
  },
  {
   "cell_type": "markdown",
   "metadata": {
    "deletable": false,
    "editable": false
   },
   "source": [
    "## Submission\n",
    "\n",
    "Make sure you have run all cells in your notebook in order before running the cell below, so that all images/graphs appear in the output. The cell below will generate a zip file for you to submit. **Please save before exporting!**"
   ]
  },
  {
   "cell_type": "code",
   "execution_count": null,
   "metadata": {
    "deletable": false,
    "editable": false
   },
   "outputs": [],
   "source": [
    "# Save your notebook first, then run this cell to export your submission.\n",
    "grader.export(run_tests=True)"
   ]
  },
  {
   "cell_type": "markdown",
   "metadata": {},
   "source": [
    " "
   ]
  }
 ],
 "metadata": {
  "kernelspec": {
   "display_name": "Python 3 (ipykernel)",
   "language": "python",
   "name": "python3"
  },
  "language_info": {
   "codemirror_mode": {
    "name": "ipython",
    "version": 3
   },
   "file_extension": ".py",
   "mimetype": "text/x-python",
   "name": "python",
   "nbconvert_exporter": "python",
   "pygments_lexer": "ipython3",
   "version": "3.11.11"
  },
  "otter": {
   "OK_FORMAT": true,
   "require_no_pdf_confirmation": true,
   "tests": {
    "q1a": {
     "name": "q1a",
     "points": 1,
     "suites": [
      {
       "cases": [
        {
         "code": ">>> q1a.startswith('[{\"web_url\":\"https:\\\\/\\\\/www.nytimes.com\\\\/2019\\\\/01\\\\/01\\\\/us\\\\/politics\\\\/elizabeth-warren-president.html\"')\nTrue",
         "hidden": false,
         "locked": false
        }
       ],
       "scored": true,
       "setup": "",
       "teardown": "",
       "type": "doctest"
      }
     ]
    },
    "q1b": {
     "name": "q1b",
     "points": 1,
     "suites": [
      {
       "cases": [
        {
         "code": ">>> q1b.upper() in ['A', 'B', 'C', 'D']\nTrue",
         "hidden": false,
         "locked": false,
         "points": 0
        }
       ],
       "scored": true,
       "setup": "",
       "teardown": "",
       "type": "doctest"
      }
     ]
    },
    "q1c": {
     "name": "q1c",
     "points": 1,
     "suites": [
      {
       "cases": [
        {
         "code": ">>> set(['web_url', 'pub_date', 'lead_paragraph']) == set(news_df.columns)\nTrue",
         "hidden": false,
         "locked": false
        },
        {
         "code": ">>> news_df.shape == (1885, 3)\nTrue",
         "hidden": false,
         "locked": false
        },
        {
         "code": ">>> news_df.loc[50, 'web_url'] == 'https://www.nytimes.com/2019/07/30/arts/television/four-weddings-and-a-funeral-review-hulu.html'\nTrue",
         "hidden": false,
         "locked": false
        },
        {
         "code": ">>> news_df.loc[203, 'pub_date'] == '2020-06-02T19:31:01+0000'\nTrue",
         "hidden": false,
         "locked": false
        },
        {
         "code": ">>> news_df.loc[919, 'lead_paragraph'] == 'At the Chelsea Piers outdoor golf club, on a recent unseasonably warm Monday afternoon, 55 people were playing golf by 3:45, and a handful were sipping beers. At CutLoose hair salon, in Brooklyn, N.Y., the stylists now watch their clients take Zoom meetings from the salon chairs. And at Skyway Golf Course, in Jersey City, N.J., Steve Mills, a general manager, has noticed that weekday afternoons are jammed with a new group of golfers.'\nTrue",
         "hidden": false,
         "locked": false
        }
       ],
       "scored": true,
       "setup": "",
       "teardown": "",
       "type": "doctest"
      }
     ]
    },
    "q2ai": {
     "name": "q2ai",
     "points": 2,
     "suites": [
      {
       "cases": [
        {
         "code": ">>> {'Month', 'Year', 'Minute'} == set(dates.columns).intersection({'Month', 'Year', 'Minute'})\nTrue",
         "hidden": false,
         "locked": false
        },
        {
         "code": ">>> dates['Year'].dtype == int\nTrue",
         "hidden": false,
         "locked": false
        },
        {
         "code": ">>> dates['Month'].dtype == int\nTrue",
         "hidden": false,
         "locked": false
        },
        {
         "code": ">>> dates['Minute'].dtype == int\nTrue",
         "hidden": false,
         "locked": false
        }
       ],
       "scored": true,
       "setup": "",
       "teardown": "",
       "type": "doctest"
      }
     ]
    },
    "q2aii": {
     "name": "q2aii",
     "points": 1,
     "suites": [
      {
       "cases": [
        {
         "code": ">>> set(news_df_dates.columns) == {'Minute', 'Month', 'Year', 'lead_paragraph', 'pub_date', 'web_url'}\nTrue",
         "hidden": false,
         "locked": false
        }
       ],
       "scored": true,
       "setup": "",
       "teardown": "",
       "type": "doctest"
      }
     ]
    },
    "q2aiii": {
     "name": "q2aiii",
     "points": 2,
     "suites": [
      {
       "cases": [
        {
         "code": ">>> 'Quarter' in news_df_dates.columns\nTrue",
         "hidden": false,
         "locked": false
        },
        {
         "code": ">>> news_df_dates.loc[938, 'Quarter'] == '2023Q1'\nTrue",
         "hidden": false,
         "locked": false
        },
        {
         "code": ">>> news_df_dates.loc[201, 'Quarter'] == '2020Q2'\nTrue",
         "hidden": false,
         "locked": false
        },
        {
         "code": ">>> news_df_dates.loc[734, 'Quarter'] == '2022Q3'\nTrue",
         "hidden": false,
         "locked": false
        },
        {
         "code": ">>> news_df_dates.loc[594, 'Quarter'] == '2021Q4'\nTrue",
         "hidden": false,
         "locked": false
        }
       ],
       "scored": true,
       "setup": "",
       "teardown": "",
       "type": "doctest"
      }
     ]
    },
    "q2bi": {
     "name": "q2bi",
     "points": 1,
     "suites": [
      {
       "cases": [
        {
         "code": ">>> q2bi.upper() in ['A', 'B', 'C']\nTrue",
         "hidden": false,
         "locked": false,
         "points": 0
        }
       ],
       "scored": true,
       "setup": "",
       "teardown": "",
       "type": "doctest"
      }
     ]
    },
    "q2bii": {
     "name": "q2bii",
     "points": 1,
     "suites": [
      {
       "cases": [
        {
         "code": ">>> q2bii.upper() in ['A', 'B', 'C']\nTrue",
         "hidden": false,
         "locked": false,
         "points": 0
        }
       ],
       "scored": true,
       "setup": "",
       "teardown": "",
       "type": "doctest"
      }
     ]
    },
    "q2c": {
     "name": "q2c",
     "points": 2,
     "suites": [
      {
       "cases": [
        {
         "code": ">>> re.findall(modified_pattern, '\"Mitochondria is the powerhouse of the cell.\"') == ['\"Mitochondria is the powerhouse of the cell.\"']\nTrue",
         "hidden": false,
         "locked": false
        },
        {
         "code": ">>> re.findall(modified_pattern, 'there is no quote in this sentence') == []\nTrue",
         "hidden": false,
         "locked": false
        },
        {
         "code": ">>> re.findall(modified_pattern, 'Brandon said, \"Recently, DATA C100 course staffs have hosted a social event with staffs from DATA C8.\"') == ['\"Recently, DATA C100 course staffs have hosted a social event with staffs from DATA C8.\"']\nTrue",
         "hidden": false,
         "locked": false
        },
        {
         "code": ">>> re.findall(modified_pattern, '\"R is great,\" a TA said, \"but have you tried using Python?\"') == ['\"R is great,\" a TA said, \"but have you tried using Python?\"']\nTrue",
         "hidden": false,
         "locked": false
        },
        {
         "code": ">>> re.findall(modified_pattern, '\"How are your classes?\" the student asked. \"Super challenging! But a lot of fun!\" said their roommate.') == ['\"How are your classes?\"', '\"Super challenging! But a lot of fun!\"']\nTrue",
         "hidden": false,
         "locked": false
        }
       ],
       "scored": true,
       "setup": "",
       "teardown": "",
       "type": "doctest"
      }
     ]
    },
    "q2d": {
     "name": "q2d",
     "points": 2,
     "suites": [
      {
       "cases": [
        {
         "code": ">>> news_df_dates.shape[0] == 1885\nTrue",
         "hidden": false,
         "locked": false
        },
        {
         "code": ">>> set(news_df_dates.columns) == {'GPT Model', 'Minute', 'Month', 'New Year', 'Quarter', 'Wordle', 'Year', 'Zoom', 'lead_paragraph', 'pub_date', 'web_url'}\nTrue",
         "hidden": false,
         "locked": false
        }
       ],
       "scored": true,
       "setup": "",
       "teardown": "",
       "type": "doctest"
      }
     ]
    },
    "q2e": {
     "name": "q2e",
     "points": 1,
     "suites": [
      {
       "cases": [
        {
         "code": ">>> topic_mentions.shape == (24, 4)\nTrue",
         "hidden": false,
         "locked": false
        },
        {
         "code": ">>> set(topic_mentions.columns) == {'Zoom', 'New Year', 'GPT Model', 'Wordle'}\nTrue",
         "hidden": false,
         "locked": false
        },
        {
         "code": ">>> set(topic_mentions.index) == {'2019Q1', '2019Q2', '2019Q3', '2019Q4', '2020Q1', '2020Q2', '2020Q3', '2020Q4', '2021Q1', '2021Q2', '2021Q3', '2021Q4', '2022Q1', '2022Q2', '2022Q3', '2022Q4', '2023Q1', '2023Q2', '2023Q3', '2023Q4', '2024Q1', '2024Q2', '2024Q3', '2024Q4'}\nTrue",
         "hidden": false,
         "locked": false
        }
       ],
       "scored": true,
       "setup": "",
       "teardown": "",
       "type": "doctest"
      }
     ]
    },
    "q3a": {
     "name": "q3a",
     "points": 1,
     "suites": [
      {
       "cases": [
        {
         "code": ">>> (sentiment_analysis(less_polar_sentence)[0]['score'] < 0.8) == True\nTrue",
         "hidden": false,
         "locked": false
        }
       ],
       "scored": true,
       "setup": "",
       "teardown": "",
       "type": "doctest"
      }
     ]
    },
    "q3bi": {
     "name": "q3bi",
     "points": 1,
     "suites": [
      {
       "cases": [
        {
         "code": ">>> news_df_filtered.shape == (1135, 11)\nTrue",
         "hidden": false,
         "locked": false
        }
       ],
       "scored": true,
       "setup": "",
       "teardown": "",
       "type": "doctest"
      }
     ]
    },
    "q3bii": {
     "name": "q3bii",
     "points": 1,
     "suites": [
      {
       "cases": [
        {
         "code": ">>> 'article_sentiment' in news_df_sentiment.columns\nTrue",
         "hidden": false,
         "locked": false
        },
        {
         "code": ">>> news_df_sentiment.shape == (1054, 12)\nTrue",
         "hidden": false,
         "locked": false
        },
        {
         "code": ">>> set(news_df_sentiment.columns) == {'GPT Model', 'Minute', 'Month', 'New Year', 'Quarter', 'Wordle', 'Year', 'Zoom', 'lead_paragraph', 'pub_date', 'article_sentiment', 'web_url'}\nTrue",
         "hidden": false,
         "locked": false
        },
        {
         "code": ">>> news_df_sentiment['article_sentiment'].iloc[1] <= 1 and news_df_sentiment['article_sentiment'].iloc[1] >= -1\nTrue",
         "hidden": false,
         "locked": false
        }
       ],
       "scored": true,
       "setup": "",
       "teardown": "",
       "type": "doctest"
      }
     ]
    },
    "q3di": {
     "name": "q3di",
     "points": 1,
     "suites": [
      {
       "cases": [
        {
         "code": ">>> top_positive.shape[0] == 5\nTrue",
         "hidden": false,
         "locked": false
        },
        {
         "code": ">>> top_negative.shape[0] == 5\nTrue",
         "hidden": false,
         "locked": false
        }
       ],
       "scored": true,
       "setup": "",
       "teardown": "",
       "type": "doctest"
      }
     ]
    }
   }
  }
 },
 "nbformat": 4,
 "nbformat_minor": 4
}
